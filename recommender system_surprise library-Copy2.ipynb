{
 "cells": [
  {
   "cell_type": "code",
   "execution_count": 27,
   "metadata": {},
   "outputs": [],
   "source": [
    "import numpy as np\n",
    "import pandas as pd\n",
    "from scipy.sparse import csr_matrix\n",
    "import seaborn as sns\n",
    "#pip install fuzzywuzzy\n",
    "from fuzzywuzzy import fuzz\n",
    "#pip install python-Levenshtein\n",
    "from fuzzywuzzy import StringMatcher\n",
    "import matplotlib.pyplot as plt\n",
    "%matplotlib inline"
   ]
  },
  {
   "cell_type": "code",
   "execution_count": 4,
   "metadata": {},
   "outputs": [],
   "source": [
    "user = pd.read_csv('BX-Users.csv', sep=';', error_bad_lines=False, encoding=\"latin-1\")\n",
    "user.columns = ['userID','Location','Age']\n",
    "rating = pd.read_csv('BX-Book-Ratings.csv', sep=';', error_bad_lines=False, encoding=\"latin-1\")\n",
    "rating.columns = ['userID','ISBN','bookRating']\n",
    "#df = pd.merge(user, rating, on='userID', how='inner')\n",
    "#df.drop(['Location','Age'], axis=1, inplace=True)\n",
    "#df.head()"
   ]
  },
  {
   "cell_type": "code",
   "execution_count": 5,
   "metadata": {},
   "outputs": [],
   "source": [
    "data=pd.read_table('u.data',sep='\\t',header=None)\n",
    "movie=pd.read_table('u.item',sep='|',encoding='latin-1',header=None)\n",
    "data.columns=['userId','itemId','rating','timestamp']\n",
    "movie.columns=['itemId','title','release date','video release date','IMDb URL','unknown','Action','Adventure','Animation',\n",
    "             'Children''s','Comedy','Crime','Documentary','Drama','Fantasy',\n",
    "             'Film-Noir','Horror','Musical','Mystery','Romance','Sci-Fi',\n",
    "             'Thriller','War','Western']"
   ]
  },
  {
   "cell_type": "code",
   "execution_count": 6,
   "metadata": {},
   "outputs": [
    {
     "data": {
      "text/html": [
       "<div>\n",
       "<style scoped>\n",
       "    .dataframe tbody tr th:only-of-type {\n",
       "        vertical-align: middle;\n",
       "    }\n",
       "\n",
       "    .dataframe tbody tr th {\n",
       "        vertical-align: top;\n",
       "    }\n",
       "\n",
       "    .dataframe thead th {\n",
       "        text-align: right;\n",
       "    }\n",
       "</style>\n",
       "<table border=\"1\" class=\"dataframe\">\n",
       "  <thead>\n",
       "    <tr style=\"text-align: right;\">\n",
       "      <th></th>\n",
       "      <th>itemId</th>\n",
       "      <th>title</th>\n",
       "      <th>release date</th>\n",
       "      <th>video release date</th>\n",
       "      <th>IMDb URL</th>\n",
       "      <th>unknown</th>\n",
       "      <th>Action</th>\n",
       "      <th>Adventure</th>\n",
       "      <th>Animation</th>\n",
       "      <th>Childrens</th>\n",
       "      <th>...</th>\n",
       "      <th>Fantasy</th>\n",
       "      <th>Film-Noir</th>\n",
       "      <th>Horror</th>\n",
       "      <th>Musical</th>\n",
       "      <th>Mystery</th>\n",
       "      <th>Romance</th>\n",
       "      <th>Sci-Fi</th>\n",
       "      <th>Thriller</th>\n",
       "      <th>War</th>\n",
       "      <th>Western</th>\n",
       "    </tr>\n",
       "  </thead>\n",
       "  <tbody>\n",
       "    <tr>\n",
       "      <th>0</th>\n",
       "      <td>1</td>\n",
       "      <td>Toy Story (1995)</td>\n",
       "      <td>01-Jan-1995</td>\n",
       "      <td>NaN</td>\n",
       "      <td>http://us.imdb.com/M/title-exact?Toy%20Story%2...</td>\n",
       "      <td>0</td>\n",
       "      <td>0</td>\n",
       "      <td>0</td>\n",
       "      <td>1</td>\n",
       "      <td>1</td>\n",
       "      <td>...</td>\n",
       "      <td>0</td>\n",
       "      <td>0</td>\n",
       "      <td>0</td>\n",
       "      <td>0</td>\n",
       "      <td>0</td>\n",
       "      <td>0</td>\n",
       "      <td>0</td>\n",
       "      <td>0</td>\n",
       "      <td>0</td>\n",
       "      <td>0</td>\n",
       "    </tr>\n",
       "    <tr>\n",
       "      <th>1</th>\n",
       "      <td>2</td>\n",
       "      <td>GoldenEye (1995)</td>\n",
       "      <td>01-Jan-1995</td>\n",
       "      <td>NaN</td>\n",
       "      <td>http://us.imdb.com/M/title-exact?GoldenEye%20(...</td>\n",
       "      <td>0</td>\n",
       "      <td>1</td>\n",
       "      <td>1</td>\n",
       "      <td>0</td>\n",
       "      <td>0</td>\n",
       "      <td>...</td>\n",
       "      <td>0</td>\n",
       "      <td>0</td>\n",
       "      <td>0</td>\n",
       "      <td>0</td>\n",
       "      <td>0</td>\n",
       "      <td>0</td>\n",
       "      <td>0</td>\n",
       "      <td>1</td>\n",
       "      <td>0</td>\n",
       "      <td>0</td>\n",
       "    </tr>\n",
       "    <tr>\n",
       "      <th>2</th>\n",
       "      <td>3</td>\n",
       "      <td>Four Rooms (1995)</td>\n",
       "      <td>01-Jan-1995</td>\n",
       "      <td>NaN</td>\n",
       "      <td>http://us.imdb.com/M/title-exact?Four%20Rooms%...</td>\n",
       "      <td>0</td>\n",
       "      <td>0</td>\n",
       "      <td>0</td>\n",
       "      <td>0</td>\n",
       "      <td>0</td>\n",
       "      <td>...</td>\n",
       "      <td>0</td>\n",
       "      <td>0</td>\n",
       "      <td>0</td>\n",
       "      <td>0</td>\n",
       "      <td>0</td>\n",
       "      <td>0</td>\n",
       "      <td>0</td>\n",
       "      <td>1</td>\n",
       "      <td>0</td>\n",
       "      <td>0</td>\n",
       "    </tr>\n",
       "    <tr>\n",
       "      <th>3</th>\n",
       "      <td>4</td>\n",
       "      <td>Get Shorty (1995)</td>\n",
       "      <td>01-Jan-1995</td>\n",
       "      <td>NaN</td>\n",
       "      <td>http://us.imdb.com/M/title-exact?Get%20Shorty%...</td>\n",
       "      <td>0</td>\n",
       "      <td>1</td>\n",
       "      <td>0</td>\n",
       "      <td>0</td>\n",
       "      <td>0</td>\n",
       "      <td>...</td>\n",
       "      <td>0</td>\n",
       "      <td>0</td>\n",
       "      <td>0</td>\n",
       "      <td>0</td>\n",
       "      <td>0</td>\n",
       "      <td>0</td>\n",
       "      <td>0</td>\n",
       "      <td>0</td>\n",
       "      <td>0</td>\n",
       "      <td>0</td>\n",
       "    </tr>\n",
       "    <tr>\n",
       "      <th>4</th>\n",
       "      <td>5</td>\n",
       "      <td>Copycat (1995)</td>\n",
       "      <td>01-Jan-1995</td>\n",
       "      <td>NaN</td>\n",
       "      <td>http://us.imdb.com/M/title-exact?Copycat%20(1995)</td>\n",
       "      <td>0</td>\n",
       "      <td>0</td>\n",
       "      <td>0</td>\n",
       "      <td>0</td>\n",
       "      <td>0</td>\n",
       "      <td>...</td>\n",
       "      <td>0</td>\n",
       "      <td>0</td>\n",
       "      <td>0</td>\n",
       "      <td>0</td>\n",
       "      <td>0</td>\n",
       "      <td>0</td>\n",
       "      <td>0</td>\n",
       "      <td>1</td>\n",
       "      <td>0</td>\n",
       "      <td>0</td>\n",
       "    </tr>\n",
       "  </tbody>\n",
       "</table>\n",
       "<p>5 rows × 24 columns</p>\n",
       "</div>"
      ],
      "text/plain": [
       "   itemId              title release date  video release date  \\\n",
       "0       1   Toy Story (1995)  01-Jan-1995                 NaN   \n",
       "1       2   GoldenEye (1995)  01-Jan-1995                 NaN   \n",
       "2       3  Four Rooms (1995)  01-Jan-1995                 NaN   \n",
       "3       4  Get Shorty (1995)  01-Jan-1995                 NaN   \n",
       "4       5     Copycat (1995)  01-Jan-1995                 NaN   \n",
       "\n",
       "                                            IMDb URL  unknown  Action  \\\n",
       "0  http://us.imdb.com/M/title-exact?Toy%20Story%2...        0       0   \n",
       "1  http://us.imdb.com/M/title-exact?GoldenEye%20(...        0       1   \n",
       "2  http://us.imdb.com/M/title-exact?Four%20Rooms%...        0       0   \n",
       "3  http://us.imdb.com/M/title-exact?Get%20Shorty%...        0       1   \n",
       "4  http://us.imdb.com/M/title-exact?Copycat%20(1995)        0       0   \n",
       "\n",
       "   Adventure  Animation  Childrens  ...  Fantasy  Film-Noir  Horror  Musical  \\\n",
       "0          0          1          1  ...        0          0       0        0   \n",
       "1          1          0          0  ...        0          0       0        0   \n",
       "2          0          0          0  ...        0          0       0        0   \n",
       "3          0          0          0  ...        0          0       0        0   \n",
       "4          0          0          0  ...        0          0       0        0   \n",
       "\n",
       "   Mystery  Romance  Sci-Fi  Thriller  War  Western  \n",
       "0        0        0       0         0    0        0  \n",
       "1        0        0       0         1    0        0  \n",
       "2        0        0       0         1    0        0  \n",
       "3        0        0       0         0    0        0  \n",
       "4        0        0       0         1    0        0  \n",
       "\n",
       "[5 rows x 24 columns]"
      ]
     },
     "execution_count": 6,
     "metadata": {},
     "output_type": "execute_result"
    }
   ],
   "source": [
    "movie.head()"
   ]
  },
  {
   "cell_type": "code",
   "execution_count": 7,
   "metadata": {},
   "outputs": [],
   "source": [
    "df=pd.merge(data,movie,on='itemId',how='inner')"
   ]
  },
  {
   "cell_type": "code",
   "execution_count": 8,
   "metadata": {},
   "outputs": [],
   "source": [
    "df.drop(['release date','video release date','IMDb URL','timestamp'],axis=1,inplace=True)"
   ]
  },
  {
   "cell_type": "code",
   "execution_count": 9,
   "metadata": {},
   "outputs": [
    {
     "data": {
      "text/html": [
       "<div>\n",
       "<style scoped>\n",
       "    .dataframe tbody tr th:only-of-type {\n",
       "        vertical-align: middle;\n",
       "    }\n",
       "\n",
       "    .dataframe tbody tr th {\n",
       "        vertical-align: top;\n",
       "    }\n",
       "\n",
       "    .dataframe thead th {\n",
       "        text-align: right;\n",
       "    }\n",
       "</style>\n",
       "<table border=\"1\" class=\"dataframe\">\n",
       "  <thead>\n",
       "    <tr style=\"text-align: right;\">\n",
       "      <th></th>\n",
       "      <th>userId</th>\n",
       "      <th>itemId</th>\n",
       "      <th>rating</th>\n",
       "      <th>title</th>\n",
       "      <th>unknown</th>\n",
       "      <th>Action</th>\n",
       "      <th>Adventure</th>\n",
       "      <th>Animation</th>\n",
       "      <th>Childrens</th>\n",
       "      <th>Comedy</th>\n",
       "      <th>...</th>\n",
       "      <th>Fantasy</th>\n",
       "      <th>Film-Noir</th>\n",
       "      <th>Horror</th>\n",
       "      <th>Musical</th>\n",
       "      <th>Mystery</th>\n",
       "      <th>Romance</th>\n",
       "      <th>Sci-Fi</th>\n",
       "      <th>Thriller</th>\n",
       "      <th>War</th>\n",
       "      <th>Western</th>\n",
       "    </tr>\n",
       "  </thead>\n",
       "  <tbody>\n",
       "    <tr>\n",
       "      <th>0</th>\n",
       "      <td>196</td>\n",
       "      <td>242</td>\n",
       "      <td>3</td>\n",
       "      <td>Kolya (1996)</td>\n",
       "      <td>0</td>\n",
       "      <td>0</td>\n",
       "      <td>0</td>\n",
       "      <td>0</td>\n",
       "      <td>0</td>\n",
       "      <td>1</td>\n",
       "      <td>...</td>\n",
       "      <td>0</td>\n",
       "      <td>0</td>\n",
       "      <td>0</td>\n",
       "      <td>0</td>\n",
       "      <td>0</td>\n",
       "      <td>0</td>\n",
       "      <td>0</td>\n",
       "      <td>0</td>\n",
       "      <td>0</td>\n",
       "      <td>0</td>\n",
       "    </tr>\n",
       "    <tr>\n",
       "      <th>1</th>\n",
       "      <td>63</td>\n",
       "      <td>242</td>\n",
       "      <td>3</td>\n",
       "      <td>Kolya (1996)</td>\n",
       "      <td>0</td>\n",
       "      <td>0</td>\n",
       "      <td>0</td>\n",
       "      <td>0</td>\n",
       "      <td>0</td>\n",
       "      <td>1</td>\n",
       "      <td>...</td>\n",
       "      <td>0</td>\n",
       "      <td>0</td>\n",
       "      <td>0</td>\n",
       "      <td>0</td>\n",
       "      <td>0</td>\n",
       "      <td>0</td>\n",
       "      <td>0</td>\n",
       "      <td>0</td>\n",
       "      <td>0</td>\n",
       "      <td>0</td>\n",
       "    </tr>\n",
       "    <tr>\n",
       "      <th>2</th>\n",
       "      <td>226</td>\n",
       "      <td>242</td>\n",
       "      <td>5</td>\n",
       "      <td>Kolya (1996)</td>\n",
       "      <td>0</td>\n",
       "      <td>0</td>\n",
       "      <td>0</td>\n",
       "      <td>0</td>\n",
       "      <td>0</td>\n",
       "      <td>1</td>\n",
       "      <td>...</td>\n",
       "      <td>0</td>\n",
       "      <td>0</td>\n",
       "      <td>0</td>\n",
       "      <td>0</td>\n",
       "      <td>0</td>\n",
       "      <td>0</td>\n",
       "      <td>0</td>\n",
       "      <td>0</td>\n",
       "      <td>0</td>\n",
       "      <td>0</td>\n",
       "    </tr>\n",
       "    <tr>\n",
       "      <th>3</th>\n",
       "      <td>154</td>\n",
       "      <td>242</td>\n",
       "      <td>3</td>\n",
       "      <td>Kolya (1996)</td>\n",
       "      <td>0</td>\n",
       "      <td>0</td>\n",
       "      <td>0</td>\n",
       "      <td>0</td>\n",
       "      <td>0</td>\n",
       "      <td>1</td>\n",
       "      <td>...</td>\n",
       "      <td>0</td>\n",
       "      <td>0</td>\n",
       "      <td>0</td>\n",
       "      <td>0</td>\n",
       "      <td>0</td>\n",
       "      <td>0</td>\n",
       "      <td>0</td>\n",
       "      <td>0</td>\n",
       "      <td>0</td>\n",
       "      <td>0</td>\n",
       "    </tr>\n",
       "    <tr>\n",
       "      <th>4</th>\n",
       "      <td>306</td>\n",
       "      <td>242</td>\n",
       "      <td>5</td>\n",
       "      <td>Kolya (1996)</td>\n",
       "      <td>0</td>\n",
       "      <td>0</td>\n",
       "      <td>0</td>\n",
       "      <td>0</td>\n",
       "      <td>0</td>\n",
       "      <td>1</td>\n",
       "      <td>...</td>\n",
       "      <td>0</td>\n",
       "      <td>0</td>\n",
       "      <td>0</td>\n",
       "      <td>0</td>\n",
       "      <td>0</td>\n",
       "      <td>0</td>\n",
       "      <td>0</td>\n",
       "      <td>0</td>\n",
       "      <td>0</td>\n",
       "      <td>0</td>\n",
       "    </tr>\n",
       "  </tbody>\n",
       "</table>\n",
       "<p>5 rows × 23 columns</p>\n",
       "</div>"
      ],
      "text/plain": [
       "   userId  itemId  rating         title  unknown  Action  Adventure  \\\n",
       "0     196     242       3  Kolya (1996)        0       0          0   \n",
       "1      63     242       3  Kolya (1996)        0       0          0   \n",
       "2     226     242       5  Kolya (1996)        0       0          0   \n",
       "3     154     242       3  Kolya (1996)        0       0          0   \n",
       "4     306     242       5  Kolya (1996)        0       0          0   \n",
       "\n",
       "   Animation  Childrens  Comedy  ...  Fantasy  Film-Noir  Horror  Musical  \\\n",
       "0          0          0       1  ...        0          0       0        0   \n",
       "1          0          0       1  ...        0          0       0        0   \n",
       "2          0          0       1  ...        0          0       0        0   \n",
       "3          0          0       1  ...        0          0       0        0   \n",
       "4          0          0       1  ...        0          0       0        0   \n",
       "\n",
       "   Mystery  Romance  Sci-Fi  Thriller  War  Western  \n",
       "0        0        0       0         0    0        0  \n",
       "1        0        0       0         0    0        0  \n",
       "2        0        0       0         0    0        0  \n",
       "3        0        0       0         0    0        0  \n",
       "4        0        0       0         0    0        0  \n",
       "\n",
       "[5 rows x 23 columns]"
      ]
     },
     "execution_count": 9,
     "metadata": {},
     "output_type": "execute_result"
    }
   ],
   "source": [
    "df.head()"
   ]
  },
  {
   "cell_type": "code",
   "execution_count": 10,
   "metadata": {},
   "outputs": [],
   "source": [
    "Average_ratings = pd.DataFrame(df.groupby('title')['rating'].mean())"
   ]
  },
  {
   "cell_type": "code",
   "execution_count": 11,
   "metadata": {},
   "outputs": [],
   "source": [
    "Average_ratings['Total Ratings'] = pd.DataFrame(df.groupby('title')['rating'].count())"
   ]
  },
  {
   "cell_type": "code",
   "execution_count": 12,
   "metadata": {},
   "outputs": [],
   "source": [
    "movie_user = df.pivot_table(index='userId',columns='title',values='rating')"
   ]
  },
  {
   "cell_type": "code",
   "execution_count": 13,
   "metadata": {},
   "outputs": [
    {
     "data": {
      "text/html": [
       "<div>\n",
       "<style scoped>\n",
       "    .dataframe tbody tr th:only-of-type {\n",
       "        vertical-align: middle;\n",
       "    }\n",
       "\n",
       "    .dataframe tbody tr th {\n",
       "        vertical-align: top;\n",
       "    }\n",
       "\n",
       "    .dataframe thead th {\n",
       "        text-align: right;\n",
       "    }\n",
       "</style>\n",
       "<table border=\"1\" class=\"dataframe\">\n",
       "  <thead>\n",
       "    <tr style=\"text-align: right;\">\n",
       "      <th>title</th>\n",
       "      <th>'Til There Was You (1997)</th>\n",
       "      <th>1-900 (1994)</th>\n",
       "      <th>101 Dalmatians (1996)</th>\n",
       "      <th>12 Angry Men (1957)</th>\n",
       "      <th>187 (1997)</th>\n",
       "      <th>2 Days in the Valley (1996)</th>\n",
       "      <th>20,000 Leagues Under the Sea (1954)</th>\n",
       "      <th>2001: A Space Odyssey (1968)</th>\n",
       "      <th>3 Ninjas: High Noon At Mega Mountain (1998)</th>\n",
       "      <th>39 Steps, The (1935)</th>\n",
       "      <th>...</th>\n",
       "      <th>Yankee Zulu (1994)</th>\n",
       "      <th>Year of the Horse (1997)</th>\n",
       "      <th>You So Crazy (1994)</th>\n",
       "      <th>Young Frankenstein (1974)</th>\n",
       "      <th>Young Guns (1988)</th>\n",
       "      <th>Young Guns II (1990)</th>\n",
       "      <th>Young Poisoner's Handbook, The (1995)</th>\n",
       "      <th>Zeus and Roxanne (1997)</th>\n",
       "      <th>unknown</th>\n",
       "      <th>Á köldum klaka (Cold Fever) (1994)</th>\n",
       "    </tr>\n",
       "    <tr>\n",
       "      <th>userId</th>\n",
       "      <th></th>\n",
       "      <th></th>\n",
       "      <th></th>\n",
       "      <th></th>\n",
       "      <th></th>\n",
       "      <th></th>\n",
       "      <th></th>\n",
       "      <th></th>\n",
       "      <th></th>\n",
       "      <th></th>\n",
       "      <th></th>\n",
       "      <th></th>\n",
       "      <th></th>\n",
       "      <th></th>\n",
       "      <th></th>\n",
       "      <th></th>\n",
       "      <th></th>\n",
       "      <th></th>\n",
       "      <th></th>\n",
       "      <th></th>\n",
       "      <th></th>\n",
       "    </tr>\n",
       "  </thead>\n",
       "  <tbody>\n",
       "    <tr>\n",
       "      <th>1</th>\n",
       "      <td>NaN</td>\n",
       "      <td>NaN</td>\n",
       "      <td>2.0</td>\n",
       "      <td>5.0</td>\n",
       "      <td>NaN</td>\n",
       "      <td>NaN</td>\n",
       "      <td>3.0</td>\n",
       "      <td>4.0</td>\n",
       "      <td>NaN</td>\n",
       "      <td>NaN</td>\n",
       "      <td>...</td>\n",
       "      <td>NaN</td>\n",
       "      <td>NaN</td>\n",
       "      <td>NaN</td>\n",
       "      <td>5.0</td>\n",
       "      <td>3.0</td>\n",
       "      <td>NaN</td>\n",
       "      <td>NaN</td>\n",
       "      <td>NaN</td>\n",
       "      <td>4.0</td>\n",
       "      <td>NaN</td>\n",
       "    </tr>\n",
       "    <tr>\n",
       "      <th>2</th>\n",
       "      <td>NaN</td>\n",
       "      <td>NaN</td>\n",
       "      <td>NaN</td>\n",
       "      <td>NaN</td>\n",
       "      <td>NaN</td>\n",
       "      <td>NaN</td>\n",
       "      <td>NaN</td>\n",
       "      <td>NaN</td>\n",
       "      <td>1.0</td>\n",
       "      <td>NaN</td>\n",
       "      <td>...</td>\n",
       "      <td>NaN</td>\n",
       "      <td>NaN</td>\n",
       "      <td>NaN</td>\n",
       "      <td>NaN</td>\n",
       "      <td>NaN</td>\n",
       "      <td>NaN</td>\n",
       "      <td>NaN</td>\n",
       "      <td>NaN</td>\n",
       "      <td>NaN</td>\n",
       "      <td>NaN</td>\n",
       "    </tr>\n",
       "    <tr>\n",
       "      <th>3</th>\n",
       "      <td>NaN</td>\n",
       "      <td>NaN</td>\n",
       "      <td>NaN</td>\n",
       "      <td>NaN</td>\n",
       "      <td>2.0</td>\n",
       "      <td>NaN</td>\n",
       "      <td>NaN</td>\n",
       "      <td>NaN</td>\n",
       "      <td>NaN</td>\n",
       "      <td>NaN</td>\n",
       "      <td>...</td>\n",
       "      <td>NaN</td>\n",
       "      <td>NaN</td>\n",
       "      <td>NaN</td>\n",
       "      <td>NaN</td>\n",
       "      <td>NaN</td>\n",
       "      <td>NaN</td>\n",
       "      <td>NaN</td>\n",
       "      <td>NaN</td>\n",
       "      <td>NaN</td>\n",
       "      <td>NaN</td>\n",
       "    </tr>\n",
       "    <tr>\n",
       "      <th>4</th>\n",
       "      <td>NaN</td>\n",
       "      <td>NaN</td>\n",
       "      <td>NaN</td>\n",
       "      <td>NaN</td>\n",
       "      <td>NaN</td>\n",
       "      <td>NaN</td>\n",
       "      <td>NaN</td>\n",
       "      <td>NaN</td>\n",
       "      <td>NaN</td>\n",
       "      <td>NaN</td>\n",
       "      <td>...</td>\n",
       "      <td>NaN</td>\n",
       "      <td>NaN</td>\n",
       "      <td>NaN</td>\n",
       "      <td>NaN</td>\n",
       "      <td>NaN</td>\n",
       "      <td>NaN</td>\n",
       "      <td>NaN</td>\n",
       "      <td>NaN</td>\n",
       "      <td>NaN</td>\n",
       "      <td>NaN</td>\n",
       "    </tr>\n",
       "    <tr>\n",
       "      <th>5</th>\n",
       "      <td>NaN</td>\n",
       "      <td>NaN</td>\n",
       "      <td>2.0</td>\n",
       "      <td>NaN</td>\n",
       "      <td>NaN</td>\n",
       "      <td>NaN</td>\n",
       "      <td>NaN</td>\n",
       "      <td>4.0</td>\n",
       "      <td>NaN</td>\n",
       "      <td>NaN</td>\n",
       "      <td>...</td>\n",
       "      <td>NaN</td>\n",
       "      <td>NaN</td>\n",
       "      <td>NaN</td>\n",
       "      <td>4.0</td>\n",
       "      <td>NaN</td>\n",
       "      <td>NaN</td>\n",
       "      <td>NaN</td>\n",
       "      <td>NaN</td>\n",
       "      <td>4.0</td>\n",
       "      <td>NaN</td>\n",
       "    </tr>\n",
       "  </tbody>\n",
       "</table>\n",
       "<p>5 rows × 1664 columns</p>\n",
       "</div>"
      ],
      "text/plain": [
       "title   'Til There Was You (1997)  1-900 (1994)  101 Dalmatians (1996)  \\\n",
       "userId                                                                   \n",
       "1                             NaN           NaN                    2.0   \n",
       "2                             NaN           NaN                    NaN   \n",
       "3                             NaN           NaN                    NaN   \n",
       "4                             NaN           NaN                    NaN   \n",
       "5                             NaN           NaN                    2.0   \n",
       "\n",
       "title   12 Angry Men (1957)  187 (1997)  2 Days in the Valley (1996)  \\\n",
       "userId                                                                 \n",
       "1                       5.0         NaN                          NaN   \n",
       "2                       NaN         NaN                          NaN   \n",
       "3                       NaN         2.0                          NaN   \n",
       "4                       NaN         NaN                          NaN   \n",
       "5                       NaN         NaN                          NaN   \n",
       "\n",
       "title   20,000 Leagues Under the Sea (1954)  2001: A Space Odyssey (1968)  \\\n",
       "userId                                                                      \n",
       "1                                       3.0                           4.0   \n",
       "2                                       NaN                           NaN   \n",
       "3                                       NaN                           NaN   \n",
       "4                                       NaN                           NaN   \n",
       "5                                       NaN                           4.0   \n",
       "\n",
       "title   3 Ninjas: High Noon At Mega Mountain (1998)  39 Steps, The (1935)  \\\n",
       "userId                                                                      \n",
       "1                                               NaN                   NaN   \n",
       "2                                               1.0                   NaN   \n",
       "3                                               NaN                   NaN   \n",
       "4                                               NaN                   NaN   \n",
       "5                                               NaN                   NaN   \n",
       "\n",
       "title   ...  Yankee Zulu (1994)  Year of the Horse (1997)  \\\n",
       "userId  ...                                                 \n",
       "1       ...                 NaN                       NaN   \n",
       "2       ...                 NaN                       NaN   \n",
       "3       ...                 NaN                       NaN   \n",
       "4       ...                 NaN                       NaN   \n",
       "5       ...                 NaN                       NaN   \n",
       "\n",
       "title   You So Crazy (1994)  Young Frankenstein (1974)  Young Guns (1988)  \\\n",
       "userId                                                                      \n",
       "1                       NaN                        5.0                3.0   \n",
       "2                       NaN                        NaN                NaN   \n",
       "3                       NaN                        NaN                NaN   \n",
       "4                       NaN                        NaN                NaN   \n",
       "5                       NaN                        4.0                NaN   \n",
       "\n",
       "title   Young Guns II (1990)  Young Poisoner's Handbook, The (1995)  \\\n",
       "userId                                                                \n",
       "1                        NaN                                    NaN   \n",
       "2                        NaN                                    NaN   \n",
       "3                        NaN                                    NaN   \n",
       "4                        NaN                                    NaN   \n",
       "5                        NaN                                    NaN   \n",
       "\n",
       "title   Zeus and Roxanne (1997)  unknown  Á köldum klaka (Cold Fever) (1994)  \n",
       "userId                                                                        \n",
       "1                           NaN      4.0                                 NaN  \n",
       "2                           NaN      NaN                                 NaN  \n",
       "3                           NaN      NaN                                 NaN  \n",
       "4                           NaN      NaN                                 NaN  \n",
       "5                           NaN      4.0                                 NaN  \n",
       "\n",
       "[5 rows x 1664 columns]"
      ]
     },
     "execution_count": 13,
     "metadata": {},
     "output_type": "execute_result"
    }
   ],
   "source": [
    "movie_user.head()"
   ]
  },
  {
   "cell_type": "code",
   "execution_count": 47,
   "metadata": {},
   "outputs": [
    {
     "name": "stderr",
     "output_type": "stream",
     "text": [
      "/Users/nagarajugooty/opt/anaconda3/lib/python3.7/site-packages/numpy/lib/function_base.py:2526: RuntimeWarning: Degrees of freedom <= 0 for slice\n",
      "  c = cov(x, y, rowvar)\n",
      "/Users/nagarajugooty/opt/anaconda3/lib/python3.7/site-packages/numpy/lib/function_base.py:2455: RuntimeWarning: divide by zero encountered in true_divide\n",
      "  c *= np.true_divide(1, fact)\n"
     ]
    }
   ],
   "source": [
    "correlations = movie_user.corrwith(movie_user['Toy Story (1995)'])"
   ]
  },
  {
   "cell_type": "code",
   "execution_count": 48,
   "metadata": {},
   "outputs": [
    {
     "data": {
      "text/plain": [
       "title\n",
       "'Til There Was You (1997)    0.534522\n",
       "1-900 (1994)                      NaN\n",
       "101 Dalmatians (1996)        0.232118\n",
       "12 Angry Men (1957)          0.334943\n",
       "187 (1997)                   0.651857\n",
       "dtype: float64"
      ]
     },
     "execution_count": 48,
     "metadata": {},
     "output_type": "execute_result"
    }
   ],
   "source": [
    "correlations.head()"
   ]
  },
  {
   "cell_type": "code",
   "execution_count": 49,
   "metadata": {},
   "outputs": [],
   "source": [
    "recommendation = pd.DataFrame(correlations,columns=['Correlation'])\n",
    "recommendation.dropna(inplace=True)"
   ]
  },
  {
   "cell_type": "code",
   "execution_count": 50,
   "metadata": {},
   "outputs": [],
   "source": [
    "recommendation = recommendation.join(Average_ratings['Total Ratings'])"
   ]
  },
  {
   "cell_type": "code",
   "execution_count": 52,
   "metadata": {},
   "outputs": [
    {
     "data": {
      "text/html": [
       "<div>\n",
       "<style scoped>\n",
       "    .dataframe tbody tr th:only-of-type {\n",
       "        vertical-align: middle;\n",
       "    }\n",
       "\n",
       "    .dataframe tbody tr th {\n",
       "        vertical-align: top;\n",
       "    }\n",
       "\n",
       "    .dataframe thead th {\n",
       "        text-align: right;\n",
       "    }\n",
       "</style>\n",
       "<table border=\"1\" class=\"dataframe\">\n",
       "  <thead>\n",
       "    <tr style=\"text-align: right;\">\n",
       "      <th></th>\n",
       "      <th>Correlation</th>\n",
       "      <th>Total Ratings</th>\n",
       "    </tr>\n",
       "    <tr>\n",
       "      <th>title</th>\n",
       "      <th></th>\n",
       "      <th></th>\n",
       "    </tr>\n",
       "  </thead>\n",
       "  <tbody>\n",
       "    <tr>\n",
       "      <th>'Til There Was You (1997)</th>\n",
       "      <td>0.534522</td>\n",
       "      <td>9</td>\n",
       "    </tr>\n",
       "    <tr>\n",
       "      <th>101 Dalmatians (1996)</th>\n",
       "      <td>0.232118</td>\n",
       "      <td>109</td>\n",
       "    </tr>\n",
       "    <tr>\n",
       "      <th>12 Angry Men (1957)</th>\n",
       "      <td>0.334943</td>\n",
       "      <td>125</td>\n",
       "    </tr>\n",
       "    <tr>\n",
       "      <th>187 (1997)</th>\n",
       "      <td>0.651857</td>\n",
       "      <td>41</td>\n",
       "    </tr>\n",
       "    <tr>\n",
       "      <th>2 Days in the Valley (1996)</th>\n",
       "      <td>0.162728</td>\n",
       "      <td>93</td>\n",
       "    </tr>\n",
       "  </tbody>\n",
       "</table>\n",
       "</div>"
      ],
      "text/plain": [
       "                             Correlation  Total Ratings\n",
       "title                                                  \n",
       "'Til There Was You (1997)       0.534522              9\n",
       "101 Dalmatians (1996)           0.232118            109\n",
       "12 Angry Men (1957)             0.334943            125\n",
       "187 (1997)                      0.651857             41\n",
       "2 Days in the Valley (1996)     0.162728             93"
      ]
     },
     "execution_count": 52,
     "metadata": {},
     "output_type": "execute_result"
    }
   ],
   "source": [
    "recommendation.head()"
   ]
  },
  {
   "cell_type": "code",
   "execution_count": 53,
   "metadata": {},
   "outputs": [],
   "source": [
    "recc = recommendation[recommendation['Total Ratings']>100].sort_values('Correlation',ascending=False).reset_index()"
   ]
  },
  {
   "cell_type": "code",
   "execution_count": 54,
   "metadata": {},
   "outputs": [
    {
     "data": {
      "text/html": [
       "<div>\n",
       "<style scoped>\n",
       "    .dataframe tbody tr th:only-of-type {\n",
       "        vertical-align: middle;\n",
       "    }\n",
       "\n",
       "    .dataframe tbody tr th {\n",
       "        vertical-align: top;\n",
       "    }\n",
       "\n",
       "    .dataframe thead th {\n",
       "        text-align: right;\n",
       "    }\n",
       "</style>\n",
       "<table border=\"1\" class=\"dataframe\">\n",
       "  <thead>\n",
       "    <tr style=\"text-align: right;\">\n",
       "      <th></th>\n",
       "      <th>title</th>\n",
       "      <th>Correlation</th>\n",
       "      <th>Total Ratings</th>\n",
       "    </tr>\n",
       "  </thead>\n",
       "  <tbody>\n",
       "    <tr>\n",
       "      <th>0</th>\n",
       "      <td>Toy Story (1995)</td>\n",
       "      <td>1.000000</td>\n",
       "      <td>452</td>\n",
       "    </tr>\n",
       "    <tr>\n",
       "      <th>1</th>\n",
       "      <td>Craft, The (1996)</td>\n",
       "      <td>0.549100</td>\n",
       "      <td>104</td>\n",
       "    </tr>\n",
       "    <tr>\n",
       "      <th>2</th>\n",
       "      <td>Down Periscope (1996)</td>\n",
       "      <td>0.457995</td>\n",
       "      <td>101</td>\n",
       "    </tr>\n",
       "    <tr>\n",
       "      <th>3</th>\n",
       "      <td>Miracle on 34th Street (1994)</td>\n",
       "      <td>0.456291</td>\n",
       "      <td>101</td>\n",
       "    </tr>\n",
       "    <tr>\n",
       "      <th>4</th>\n",
       "      <td>G.I. Jane (1997)</td>\n",
       "      <td>0.454756</td>\n",
       "      <td>175</td>\n",
       "    </tr>\n",
       "    <tr>\n",
       "      <th>...</th>\n",
       "      <td>...</td>\n",
       "      <td>...</td>\n",
       "      <td>...</td>\n",
       "    </tr>\n",
       "    <tr>\n",
       "      <th>329</th>\n",
       "      <td>Raging Bull (1980)</td>\n",
       "      <td>-0.083523</td>\n",
       "      <td>116</td>\n",
       "    </tr>\n",
       "    <tr>\n",
       "      <th>330</th>\n",
       "      <td>Boogie Nights (1997)</td>\n",
       "      <td>-0.086194</td>\n",
       "      <td>189</td>\n",
       "    </tr>\n",
       "    <tr>\n",
       "      <th>331</th>\n",
       "      <td>Clockwork Orange, A (1971)</td>\n",
       "      <td>-0.087710</td>\n",
       "      <td>221</td>\n",
       "    </tr>\n",
       "    <tr>\n",
       "      <th>332</th>\n",
       "      <td>Apt Pupil (1998)</td>\n",
       "      <td>-0.104066</td>\n",
       "      <td>160</td>\n",
       "    </tr>\n",
       "    <tr>\n",
       "      <th>333</th>\n",
       "      <td>Harold and Maude (1971)</td>\n",
       "      <td>-0.181697</td>\n",
       "      <td>121</td>\n",
       "    </tr>\n",
       "  </tbody>\n",
       "</table>\n",
       "<p>334 rows × 3 columns</p>\n",
       "</div>"
      ],
      "text/plain": [
       "                             title  Correlation  Total Ratings\n",
       "0                 Toy Story (1995)     1.000000            452\n",
       "1                Craft, The (1996)     0.549100            104\n",
       "2            Down Periscope (1996)     0.457995            101\n",
       "3    Miracle on 34th Street (1994)     0.456291            101\n",
       "4                 G.I. Jane (1997)     0.454756            175\n",
       "..                             ...          ...            ...\n",
       "329             Raging Bull (1980)    -0.083523            116\n",
       "330           Boogie Nights (1997)    -0.086194            189\n",
       "331     Clockwork Orange, A (1971)    -0.087710            221\n",
       "332               Apt Pupil (1998)    -0.104066            160\n",
       "333        Harold and Maude (1971)    -0.181697            121\n",
       "\n",
       "[334 rows x 3 columns]"
      ]
     },
     "execution_count": 54,
     "metadata": {},
     "output_type": "execute_result"
    }
   ],
   "source": [
    "recc"
   ]
  },
  {
   "cell_type": "code",
   "execution_count": 14,
   "metadata": {},
   "outputs": [],
   "source": [
    "from scipy.sparse import csr_matrix\n",
    "# pivot ratings into movie features\n",
    "df_movie_features = df.pivot(\n",
    "    index='itemId',\n",
    "    columns='userId',\n",
    "    values='rating'\n",
    ").fillna(0)\n",
    "mat_movie_features = csr_matrix(df_movie_features.values)"
   ]
  },
  {
   "cell_type": "code",
   "execution_count": 55,
   "metadata": {},
   "outputs": [
    {
     "data": {
      "text/plain": [
       "array([  0,   1,   4, ..., 862, 895, 915], dtype=int32)"
      ]
     },
     "execution_count": 55,
     "metadata": {},
     "output_type": "execute_result"
    }
   ],
   "source": [
    "mat_movie_features.indices"
   ]
  },
  {
   "cell_type": "code",
   "execution_count": 76,
   "metadata": {},
   "outputs": [],
   "source": [
    "from sklearn.neighbors import NearestNeighbors\n",
    "#make an object for the NearestNeighbors Class.\n",
    "model_knn = NearestNeighbors(metric='cosine', algorithm='brute', n_neighbors=20, n_jobs=-1)\n",
    "# fit the dataset\n",
    "model_knn.fit(mat_movie_features)\n",
    "n_recommendations=10"
   ]
  },
  {
   "cell_type": "code",
   "execution_count": 71,
   "metadata": {},
   "outputs": [
    {
     "data": {
      "text/plain": [
       "4.0"
      ]
     },
     "execution_count": 71,
     "metadata": {},
     "output_type": "execute_result"
    }
   ],
   "source": [
    "hashmap = {\n",
    "            movie: i for i, movie in\n",
    "            enumerate(list(df.set_index('itemId').loc[mat_movie_features.indices].title))}"
   ]
  },
  {
   "cell_type": "code",
   "execution_count": 77,
   "metadata": {},
   "outputs": [
    {
     "ename": "ValueError",
     "evalue": "Found array with 0 sample(s) (shape=(0, 943)) while a minimum of 1 is required.",
     "output_type": "error",
     "traceback": [
      "\u001b[0;31m---------------------------------------------------------------------------\u001b[0m",
      "\u001b[0;31mValueError\u001b[0m                                Traceback (most recent call last)",
      "\u001b[0;32m<ipython-input-77-f38fdb37ff6b>\u001b[0m in \u001b[0;36m<module>\u001b[0;34m\u001b[0m\n\u001b[1;32m     15\u001b[0m distances, indices = model_knn.kneighbors(\n\u001b[1;32m     16\u001b[0m             \u001b[0mmat_movie_features\u001b[0m\u001b[0;34m[\u001b[0m\u001b[0midx\u001b[0m\u001b[0;34m]\u001b[0m\u001b[0;34m,\u001b[0m\u001b[0;34m\u001b[0m\u001b[0;34m\u001b[0m\u001b[0m\n\u001b[0;32m---> 17\u001b[0;31m             n_neighbors=n_recommendations+1)\n\u001b[0m\u001b[1;32m     18\u001b[0m         \u001b[0;31m# get list of raw idx of recommendations\u001b[0m\u001b[0;34m\u001b[0m\u001b[0;34m\u001b[0m\u001b[0;34m\u001b[0m\u001b[0m\n\u001b[1;32m     19\u001b[0m \u001b[0mraw_recommends\u001b[0m \u001b[0;34m=\u001b[0m\u001b[0;31m \u001b[0m\u001b[0;31m\\\u001b[0m\u001b[0;34m\u001b[0m\u001b[0;34m\u001b[0m\u001b[0m\n",
      "\u001b[0;32m~/opt/anaconda3/lib/python3.7/site-packages/sklearn/neighbors/_base.py\u001b[0m in \u001b[0;36mkneighbors\u001b[0;34m(self, X, n_neighbors, return_distance)\u001b[0m\n\u001b[1;32m    603\u001b[0m                 \u001b[0mX\u001b[0m \u001b[0;34m=\u001b[0m \u001b[0m_check_precomputed\u001b[0m\u001b[0;34m(\u001b[0m\u001b[0mX\u001b[0m\u001b[0;34m)\u001b[0m\u001b[0;34m\u001b[0m\u001b[0;34m\u001b[0m\u001b[0m\n\u001b[1;32m    604\u001b[0m             \u001b[0;32melse\u001b[0m\u001b[0;34m:\u001b[0m\u001b[0;34m\u001b[0m\u001b[0;34m\u001b[0m\u001b[0m\n\u001b[0;32m--> 605\u001b[0;31m                 \u001b[0mX\u001b[0m \u001b[0;34m=\u001b[0m \u001b[0mcheck_array\u001b[0m\u001b[0;34m(\u001b[0m\u001b[0mX\u001b[0m\u001b[0;34m,\u001b[0m \u001b[0maccept_sparse\u001b[0m\u001b[0;34m=\u001b[0m\u001b[0;34m'csr'\u001b[0m\u001b[0;34m)\u001b[0m\u001b[0;34m\u001b[0m\u001b[0;34m\u001b[0m\u001b[0m\n\u001b[0m\u001b[1;32m    606\u001b[0m         \u001b[0;32melse\u001b[0m\u001b[0;34m:\u001b[0m\u001b[0;34m\u001b[0m\u001b[0;34m\u001b[0m\u001b[0m\n\u001b[1;32m    607\u001b[0m             \u001b[0mquery_is_train\u001b[0m \u001b[0;34m=\u001b[0m \u001b[0;32mTrue\u001b[0m\u001b[0;34m\u001b[0m\u001b[0;34m\u001b[0m\u001b[0m\n",
      "\u001b[0;32m~/opt/anaconda3/lib/python3.7/site-packages/sklearn/utils/validation.py\u001b[0m in \u001b[0;36mcheck_array\u001b[0;34m(array, accept_sparse, accept_large_sparse, dtype, order, copy, force_all_finite, ensure_2d, allow_nd, ensure_min_samples, ensure_min_features, warn_on_dtype, estimator)\u001b[0m\n\u001b[1;32m    584\u001b[0m                              \u001b[0;34m\" minimum of %d is required%s.\"\u001b[0m\u001b[0;34m\u001b[0m\u001b[0;34m\u001b[0m\u001b[0m\n\u001b[1;32m    585\u001b[0m                              % (n_samples, array.shape, ensure_min_samples,\n\u001b[0;32m--> 586\u001b[0;31m                                 context))\n\u001b[0m\u001b[1;32m    587\u001b[0m \u001b[0;34m\u001b[0m\u001b[0m\n\u001b[1;32m    588\u001b[0m     \u001b[0;32mif\u001b[0m \u001b[0mensure_min_features\u001b[0m \u001b[0;34m>\u001b[0m \u001b[0;36m0\u001b[0m \u001b[0;32mand\u001b[0m \u001b[0marray\u001b[0m\u001b[0;34m.\u001b[0m\u001b[0mndim\u001b[0m \u001b[0;34m==\u001b[0m \u001b[0;36m2\u001b[0m\u001b[0;34m:\u001b[0m\u001b[0;34m\u001b[0m\u001b[0;34m\u001b[0m\u001b[0m\n",
      "\u001b[0;31mValueError\u001b[0m: Found array with 0 sample(s) (shape=(0, 943)) while a minimum of 1 is required."
     ]
    }
   ],
   "source": [
    "\n",
    "\n",
    "match_tuple = []\n",
    "        # get match\n",
    "for title, idx in hashmap.items():\n",
    "    ratio = fuzz.ratio(str(title).lower(), fav_movie.lower())\n",
    "    if ratio >= 60:\n",
    "        match_tuple.append((title, idx, ratio))\n",
    "        # sort\n",
    "        match_tuple = sorted(match_tuple, key=lambda x: x[2])[::-1]\n",
    "        if not match_tuple:\n",
    "            print('Oops! No match is found')\n",
    "        else:\n",
    "            print('Found possible matches in our database: '\n",
    "                  '{0}\\n'.format([x[0] for x in match_tuple]))\n",
    "idx=match_tuple\n",
    "distances, indices = model_knn.kneighbors(\n",
    "            mat_movie_features[idx],\n",
    "            n_neighbors=n_recommendations+1)\n",
    "        # get list of raw idx of recommendations\n",
    "raw_recommends = \\\n",
    "            sorted(\n",
    "                list(\n",
    "                    zip(\n",
    "                        indices.squeeze().tolist(),\n",
    "                        distances.squeeze().tolist()\n",
    "                    )\n",
    "                ),\n",
    "                key=lambda x: x[1]\n",
    "            )[:0:-1]"
   ]
  },
  {
   "cell_type": "code",
   "execution_count": 59,
   "metadata": {},
   "outputs": [
    {
     "data": {
      "text/plain": [
       "'iron man'"
      ]
     },
     "execution_count": 59,
     "metadata": {},
     "output_type": "execute_result"
    }
   ],
   "source": [
    "fav_movie='Iron Man'\n",
    "fav_movie.lower()"
   ]
  },
  {
   "cell_type": "code",
   "execution_count": 63,
   "metadata": {},
   "outputs": [
    {
     "data": {
      "text/plain": [
       "nan"
      ]
     },
     "execution_count": 63,
     "metadata": {},
     "output_type": "execute_result"
    }
   ],
   "source": [
    "title"
   ]
  },
  {
   "cell_type": "code",
   "execution_count": 61,
   "metadata": {},
   "outputs": [
    {
     "name": "stderr",
     "output_type": "stream",
     "text": [
      "/Users/nagarajugooty/opt/anaconda3/lib/python3.7/site-packages/ipykernel_launcher.py:3: FutureWarning: \n",
      "Passing list-likes to .loc or [] with any missing label will raise\n",
      "KeyError in the future, you can use .reindex() as an alternative.\n",
      "\n",
      "See the documentation here:\n",
      "https://pandas.pydata.org/pandas-docs/stable/user_guide/indexing.html#deprecate-loc-reindex-listlike\n",
      "  This is separate from the ipykernel package so we can avoid doing imports until\n"
     ]
    },
    {
     "data": {
      "text/plain": [
       "dict_items([(nan, 4128896), ('Toy Story (1995)', 4861239), ('Get Shorty (1995)', 6115132), ('Copycat (1995)', 6912583), ('Dead Man Walking (1995)', 8020375), ('Usual Suspects, The (1995)', 8960774), ('Postino, Il (1994)', 9055567), (\"Mr. Holland's Opus (1995)\", 9100488), ('French Twist (Gazon maudit) (1995)', 8961669), ('From Dusk Till Dawn (1996)', 9179310), (\"Antonia's Line (1995)\", 9042560), ('Angels and Insects (1995)', 9239126), ('Braveheart (1995)', 9257249), ('Rumble in the Bronx (1995)', 9165875), ('Birdcage, The (1996)', 9312868), ('Nadja (1994)', 9391709), ('To Wong Foo, Thanks for Everything! Julie Newmar (1995)', 9394860), ('Billy Madison (1995)', 9455174), ('Clerks (1994)', 9471990), ('Disclosure (1994)', 9474851), ('Dolores Claiborne (1994)', 9482933), ('Hoop Dreams (1994)', 9534559), ('Natural Born Killers (1994)', 9542414), ('Professional, The (1994)', 9556789), ('Pulp Fiction (1994)', 9566586), ('Priest (1994)', 9586231), ('Quiz Show (1994)', 9619550), ('Three Colors: White (1994)', 9649611), ('Stargate (1994)', 9656723), ('Santa Clause, The (1994)', 9662522), ('Shawshank Redemption, The (1994)', 9664119), (\"What's Eating Gilbert Grape (1993)\", 9313830), ('While You Were Sleeping (1995)', 9563331), ('Forrest Gump (1994)', 9671651), ('Lion King, The (1994)', 9674052), ('Mask, The (1994)', 9675551), ('Faster Pussycat! Kill! Kill! (1965)', 9679690), (\"Carlito's Way (1993)\", 9356949), ('Free Willy (1993)', 9692284), ('Hot Shots! Part Deux (1993)', 9476778), ('Hudsucker Proxy, The (1994)', 9696421), ('Jurassic Park (1993)', 9697151), ('Much Ado About Nothing (1993)', 9430523), ('Sleepless in Seattle (1993)', 9613531), ('Nightmare Before Christmas, The (1993)', 9776848), ('True Romance (1993)', 9042923), ('Welcome to the Dollhouse (1995)', 9799892), ('Home Alone (1990)', 9812627), ('Aladdin (1992)', 9814133), ('Terminator 2: Judgment Day (1991)', 9624921), ('Silence of the Lambs, The (1991)', 9634501), ('Fargo (1996)', 9635009), ('Heavy Metal (1981)', 9821350), ('Sgt. Bilko (1996)', 9824372), ('Moll Flanders (1996)', 9031704), ('Kids in the Hall: Brain Candy (1996)', 9828898), ('Cold Comfort Farm (1995)', 9697276), ('Maya Lin: A Strong Clear Vision (1994)', 8984931), ('Striptease (1996)', 9851442), ('Frighteners, The (1996)', 7380361), ('Lone Star (1996)', 9860577), ('Godfather, The (1972)', 9790197), ('Bound (1996)', 9868593), ('Kansas City (1996)', 9869963), ('Gone with the Wind (1939)', 8900456), ('Mr. Smith Goes to Washington (1939)', 9606449), ('Big Night (1996)', 8210968), ('Homeward Bound: The Incredible Journey (1993)', 9872094), ('Sound of Music, The (1965)', 9878069), ('Die Hard (1988)', 9885105), ('Long Kiss Goodnight, The (1996)', 9675754), ('Jude (1996)', 7428883), ('Swingers (1996)', 9890998), ('Reservoir Dogs (1992)', 9893550), ('Platoon (1986)', 9894259), ('Basic Instinct (1992)', 9796951), ('Top Gun (1986)', 9432913), ('Private Benjamin (1980)', 9866970), ('Princess Bride, The (1987)', 9900041), ('Aliens (1986)', 9781627), ('Good, The Bad and The Ugly, The (1966)', 9902192), ('Apocalypse Now (1979)', 9941387), ('Return of the Jedi (1983)', 8779049), ('Alien (1979)', 9943444), ('Full Metal Jacket (1987)', 9948374), ('Raging Bull (1980)', 9950778), ('Right Stuff, The (1983)', 9957205), ('Graduate, The (1967)', 9829730), ('Nikita (La Femme Nikita) (1990)', 9921550), ('Bridge on the River Kwai, The (1957)', 9961368), ('Shining, The (1980)', 9968406), ('Evil Dead II (1987)', 7324210), ('Groundhog Day (1993)', 9450089), ('Unforgiven (1992)', 9887156), ('Young Frankenstein (1974)', 9655309), ('This Is Spinal Tap (1984)', 9609501), ('Unbearable Lightness of Being, The (1988)', 9774816), ('Field of Dreams (1989)', 9781839), ('Breaking the Waves (1996)', 9973587), ('Star Trek: First Contact (1996)', 9892011), ('Star Trek III: The Search for Spock (1984)', 9975540), ('Star Trek IV: The Voyage Home (1986)', 8987038), ('Batman Returns (1992)', 9675896), ('Under Siege (1992)', 9984805), ('Jaws (1975)', 9985307), ('Last of the Mohicans, The (1992)', 9923084), ('Kolya (1996)', 9985852), ('Jungle2Jungle (1997)', 9986309), (\"Devil's Own, The (1997)\", 9954545), ('Chasing Amy (1997)', 9995372), ('Turbo: A Power Rangers Movie (1997)', 9010548), ('Grosse Pointe Blank (1997)', 9700446), ('Austin Powers: International Man of Mystery (1997)', 9966511), ('Fifth Element, The (1997)', 9570200), ('Shall We Dance? (1996)', 8742209), ('Lost World: Jurassic Park, The (1997)', 9986480), ('Pillow Book, The (1995)', 9988033), (\"My Best Friend's Wedding (1997)\", 9988677), ('Air Bud (1997)', 9867013), ('In the Company of Men (1997)', 9990112), ('Mimic (1997)', 9743311), ('unknown', 9992398), ('Gattaca (1997)', 9954936), ('Heat (1995)', 9695079), ('Sabrina (1995)', 9784970), ('Sense and Sensibility (1995)', 9996730), ('Leaving Las Vegas (1995)', 9872970), ('Bed of Roses (1996)', 10001735), ('Once Upon a Time... When We Were Colored (1995)', 9994425), ('Secrets & Lies (1996)', 10003708), ('English Patient, The (1996)', 9498262), ('Scream (1996)', 9319040), ('Evita (1996)', 9914171), ('Fierce Creatures (1997)', 10004060), ('Absolute Power (1997)', 9665609), ('Rosewood (1997)', 9962962), ('Donnie Brasco (1997)', 9839339), ('Liar Liar (1997)', 10002917), ('Breakdown (1997)', 9875029), ('Promesse, La (1996)', 9887162), (\"Ulee's Gold (1997)\", 9918261), ('Face/Off (1997)', 10004664), ('Air Force One (1997)', 9873401), ('L.A. Confidential (1997)', 10006076), ('Fly Away Home (1996)', 10016355), ('Mrs. Brown (Her Majesty, Mrs. Brown) (1997)', 9955700), (\"Devil's Advocate, The (1997)\", 10007846), ('Rainmaker, The (1997)', 9994570), ('Wings of the Dove, The (1997)', 10007921), ('Midnight in the Garden of Good and Evil (1997)', 9988113), ('Titanic (1997)', 10010977), ('Everyone Says I Love You (1996)', 10011484), ('Mother (1996)', 9335569), (\"Dante's Peak (1997)\", 9562570), ('Lost Highway (1997)', 10012256), ('Crash (1996)', 9813255), ('G.I. Jane (1997)', 9783309), ('Desperate Measures (1998)', 9628993), ('187 (1997)', 9887233), ('Edge, The (1997)', 9903013), ('How to Be a Player (1997)', 10000612), ('House of Yes, The (1997)', 9623008), ('Bean (1997)', 10013521), ('Mad City (1997)', 9639782), ('Man Who Knew Too Little, The (1997)', 9854797), ('Alien: Resurrection (1997)', 9873525), ('Apostle, The (1997)', 9903330), ('Jackie Brown (1997)', 9884482), ('Wag the Dog (1997)', 9620330), ('Hard Rain (1998)', 9400364), ('Client, The (1994)', 9866265), ('Spawn (1997)', 9027346), ('Assignment, The (1997)', 9743829), ('Blues Brothers 2000 (1998)', 10006460), ('Ace Ventura: When Nature Calls (1995)', 9962632), ('Mary Reilly (1996)', 8253950), ('Judge Dredd (1995)', 10006918), ('Heavyweights (1994)', 10015266), ('Miracle on 34th Street (1994)', 9785227), ('Tales From the Crypt Presents: Demon Knight (1995)', 9979219), ('Star Trek: Generations (1994)', 10016008), ('Addams Family Values (1993)', 10017426), ('Age of Innocence, The (1993)', 8913465), ('Beverly Hills Cop III (1994)', 10014970), ('Black Beauty (1994)', 9887260), ('Man Without a Face, The (1993)', 10017725), ('Mrs. Doubtfire (1993)', 9998028), ('Radioland Murders (1994)', 9481521), ('Robin Hood: Men in Tights (1993)', 9943945), ('Striking Distance (1993)', 9979715), ('Super Mario Bros. (1993)', 10018808), ('Little Rascals, The (1994)', 9882413), ('Brady Bunch Movie, The (1995)', 9875118), ('Ghost (1990)', 9749257), ('Mission: Impossible (1996)', 9855283), ('Thinner (1996)', 9847293), ('Kingpin (1996)', 9992038), ('Nutty Professor, The (1996)', 9169712), ('Apple Dumpling Gang, The (1975)', 10027457), ('Old Yeller (1957)', 10020062), ('Cinderella (1950)', 9980417), (\"William Shakespeare's Romeo and Juliet (1996)\", 9749363), ('E.T. the Extra-Terrestrial (1982)', 9918774), ('Children of the Corn: The Gathering (1996)', 10027643), ('Harold and Maude (1971)', 10019186), ('Highlander (1986)', 9450427), ('Heathers (1989)', 9744641), ('Forbidden Planet (1956)', 10020476), (\"Amityville 1992: It's About Time (1992)\", 9366266), ('Amityville II: The Possession (1982)', 8329604), ('Blob, The (1958)', 10028729), ('Burnt Offerings (1976)', 9908666), ('Star Trek: The Motion Picture (1979)', 10029129), ('Jaws 3-D (1983)', 9981485), ('Bastard Out of Carolina (1996)', 9850541), (\"Jackie Chan's First Strike (1996)\", 10029274), ('Beverly Hills Ninja (1997)', 9792544), ('Free Willy 3: The Rescue (1997)', 9915842), ('Nixon (1995)', 9732795), ('Cry, the Beloved Country (1995)', 9933153), ('Like Water For Chocolate (Como agua para chocolate) (1992)', 10029843), ('Vanya on 42nd Street (1994)', 9526468), ('Red Rock West (1992)', 9801530), ('Bronx Tale, A (1993)', 9702570), ('Short Cuts (1993)', 9643038), ('Tombstone (1993)', 9785530), ('Courage Under Fire (1996)', 9987810), ('Matilda (1996)', 10011316), ('Philadelphia Story, The (1940)', 10030197), ('Some Like It Hot (1959)', 9681259), ('Casablanca (1942)', 9322680), ('My Fair Lady (1964)', 10031193), ('Sabrina (1954)', 9978076), ('Roman Holiday (1953)', 9453884), ('Notorious (1946)', 9936724), ('East of Eden (1955)', 9867072), ('Thin Man, The (1934)', 9745107), ('His Girl Friday (1940)', 10018782), (\"It's a Wonderful Life (1946)\", 10031946), ('Cat on a Hot Tin Roof (1958)', 10032612), ('Bananas (1971)', 9992095), ('Bonnie and Clyde (1967)', 9953389), ('Streetcar Named Desire, A (1951)', 9683928), ('Lawrence of Arabia (1962)', 9983959), ('Third Man, The (1949)', 10028452), ('Local Hero (1983)', 9714738), ('Manhattan (1979)', 9913138), ('Great Escape, The (1963)', 9827742), ('Down by Law (1986)', 9990046), ('Great Dictator, The (1940)', 9903447), ('Big Sleep, The (1946)', 9536697), ('Shine (1996)', 10027586), ('Kama Sutra: A Tale of Love (1996)', 9884571), ('Daytrippers, The (1996)', 9908988), ('Traveller (1997)', 9991576), ('Addicted to Love (1997)', 9662013), ('Ponette (1996)', 9992105), ('Mouse Hunt (1997)', 9801983), ('Money Train (1995)', 9974941), ('Mortal Kombat (1995)', 9783951), (\"Things to Do in Denver when You're Dead (1995)\", 9808114), (\"Young Poisoner's Handbook, The (1995)\", 9950059), ('NeverEnding Story III, The (1994)', 9439218), ('Rob Roy (1995)', 10033073), ('Lord of Illusions (1995)', 10033097), ('Species (1995)', 9980557), ('Walk in the Clouds, A (1995)', 9875446), ('Interview with the Vampire (1994)', 9950196), (\"Kid in King Arthur's Court, A (1995)\", 10014712), (\"Mary Shelley's Frankenstein (1994)\", 9626571), ('Clear and Present Danger (1994)', 9980736), ('Speed (1994)', 9875676), (\"City Slickers II: The Legend of Curly's Gold (1994)\", 8643747), ('Cliffhanger (1993)', 10015528), ('Demolition Man (1993)', 9978168), ('Fatal Instinct (1993)', 9367461), ('Kalifornia (1993)', 9776191), ('Hour of the Pig, The (1993)', 10005014), ('Primal Fear (1996)', 10034315), ('True Crime (1995)', 9792903), ('Hunchback of Notre Dame, The (1996)', 10016482), ('Big Squeeze, The (1996)', 9923088), ('For Whom the Bell Tolls (1943)', 9221974), ('It Happened One Night (1934)', 9802242), ('Meet Me in St. Louis (1944)', 10009772), ('Spellbound (1945)', 9295454), ('Father of the Bride (1950)', 10022328), ('Laura (1944)', 9488878), ('Lost Horizon (1937)', 9903730), ('My Man Godfrey (1936)', 9667318), ('Blue Angel, The (Blaue Engel, Der) (1930)', 9986883), ('Extreme Measures (1996)', 10003457), ('Chamber, The (1996)', 9808158), ('Davy Crockett, King of the Wild Frontier (1955)', 10020487), ('Angels in the Outfield (1994)', 9882452), ('Victor/Victoria (1982)', 9745424), ('Crying Game, The (1992)', 9721917), ('Christmas Carol, A (1938)', 9913217), (\"Microcosmos: Le peuple de l'herbe (1996)\", 9354613), ('Fog, The (1980)', 8587004), ('Escape from New York (1981)', 9929132), ('Paths of Glory (1957)', 10015561), ('Grifters, The (1990)', 9793076), ('Ran (1985)', 10034600), ('Quiet Man, The (1952)', 9873718), ('Once Upon a Time in America (1984)', 10034650), ('Rosencrantz and Guildenstern Are Dead (1990)', 10033369), ('Touch of Evil (1958)', 9877674), ('Chinatown (1974)', 10038675), ('M (1931)', 9272673), ('Manchurian Candidate, The (1962)', 9580860), ('Arsenic and Old Lace (1944)', 10032063), ('Fried Green Tomatoes (1991)', 9423446), ('Somewhere in Time (1980)', 9909070), ('Being There (1979)', 9592612), ('Paris, Texas (1984)', 9903776), ('Blood Beach (1981)', 8956985), ('Cape Fear (1962)', 10033455), ('Nosferatu (Nosferatu, eine Symphonie des Grauens) (1922)', 10039045), ('Crucible, The (1996)', 9831025), ('Fire on the Mountain (1996)', 9632117), ('Volcano (1997)', 8333935), ('Conan the Barbarian (1981)', 9547319), ('Wishmaster (1997)', 10039072), ('Rocket Man (1997)', 9893402), ('Leave It to Beaver (1997)', 8860414), ('Jackal, The (1997)', 9862467), ('Seven Years in Tibet (1997)', 9710424), ('Dark City (1998)', 9637266), ('City Hall (1996)', 9831104), ('Basketball Diaries, The (1995)', 9891142), ('Browning Version, The (1994)', 10037232), ('Miami Rhapsody (1995)', 8334069), ('Barcelona (1994)', 9745779), ('House of the Spirits, The (1993)', 10018933), (\"Singin' in the Rain (1952)\", 8368432), ('Enchanted April (1991)', 9869884), ('Sex, Lies, and Videotape (1989)', 9784091), ('Strictly Ballroom (1992)', 9581139), ('Othello (1995)', 9681832), ('Carrington (1995)', 9796356), ('To Die For (1995)', 9879750), ('First Knight (1995)', 9975027), ('Nine Months (1995)', 9222618), ('Exit to Eden (1994)', 9479012), ('Fluke (1995)', 10039171), ('Nell (1994)', 9296225), ('Queen Margot (Reine Margot, La) (1994)', 10003515), ('Dave (1993)', 10039351), ('Made in America (1993)', 9296252), ('Sirens (1994)', 9441089), ('Last Supper, The (1995)', 9296310), ('Crow: City of Angels, The (1996)', 9643836), ('Michael Collins (1996)', 9626937), ('Ruling Class, The (1972)', 8069040), ('Real Genius (1985)', 10039687), ('Benny & Joon (1993)', 8745186), ('Saint, The (1997)', 10032403), ('Amistad (1997)', 10039811), ('Jumanji (1995)', 10038859), ('Father of the Bride Part II (1995)', 9862609), ('Lawnmower Man 2: Beyond Cyberspace (1996)', 9325758), ('Screamers (1995)', 10022374), ('Beautiful Girls (1996)', 9857860), ('Happy Gilmore (1996)', 9876142), ('Man of the Year (1995)', 9622240), ('Addiction, The (1995)', 9484967), ('Casper (1995)', 9907258), ('Congo (1995)', 9296551), ('Devil in a Blue Dress (1995)', 9632479), ('Kids (1995)', 10021594), ('Three Wishes (1995)', 9532175), ('Don Juan DeMarco (1995)', 9369493), ('Beyond Bedlam (1993)', 9454752), ('Only You (1994)', 9420655), ('Roommates (1995)', 10009864), ('Relative Fear (1994)', 9693594), ('Swimming with Sharks (1995)', 9989889), ('Baby-Sitters Club, The (1995)', 9913227), ('Bullets Over Broadway (1994)', 9925572), ('Crooklyn (1994)', 9836556), ('It Could Happen to You (1994)', 10021640), ('Richie Rich (1994)', 10012025), ('Timecop (1994)', 10018964), ('Boys Life (1995)', 9441471), ('Heaven & Earth (1993)', 10032496), ('Jimmy Hollywood (1994)', 10035028), ('Manhattan Murder Mystery (1993)', 10007650), ('Menace II Society (1993)', 10032546), ('Great Day in Harlem, A (1994)', 9891183), ('Candyman: Farewell to the Flesh (1995)', 9016414), ('Space Jam (1996)', 9746049), ('Mrs. Winterbourne (1996)', 9823336), ('Faces (1968)', 9856061), ('Arrival, The (1996)', 9953565), ('Alaska (1996)', 9736680), ('Fled (1996)', 9165552), ('Power 98 (1995)', 9619045), ('Halloween: The Curse of Michael Myers (1995)', 10040977), ('Meet John Doe (1941)', 9605098), ('In the Line of Duty 2 (1987)', 10040111), ('Pollyanna (1960)', 9995801), ('To Gillian on Her 37th Birthday (1996)', 9945131), ('Two or Three Things I Know About Her (1966)', 10032550), ('Braindead (1992)', 10041003), ('Garden of Finzi-Contini, The (Giardino dei Finzi-Contini, Il) (1970)', 10015585), ('My Fellow Americans (1996)', 9823505), ('Michael (1996)', 10030468), ('Whole Wide World, The (1996)', 10005482), ('Fools Rush In (1997)', 10040135), ('Vegas Vacation (1997)', 9930909), ('That Darn Cat! (1997)', 9876319), ('Peacemaker, The (1997)', 10040271), ('Soul Food (1997)', 10018509), ('Money Talks (1997)', 9976745), ('Washington Square (1997)', 10039157), ('Year of the Horse (1997)', 9898654), ('Phantoms (1998)', 9999681), ('Life Less Ordinary, A (1997)', 10018562), ('One Night Stand (1997)', 10026546), ('Tango Lesson, The (1997)', 9677504), ('Bent (1997)', 9981674), ('Flubber (1997)', 9831165), ('For Richer or Poorer (1997)', 10039449), ('Home Alone 3 (1997)', 9311103), ('Scream 2 (1997)', 10041163), ('Sweet Hereafter, The (1997)', 10015629), ('Postman, The (1997)', 9581968), ('Kundun (1997)', 10037358), ('Mr. Magoo (1997)', 9326351), ('Big Lebowski, The (1998)', 9934263), ('Oscar & Lucinda (1997)', 9908752), ('Dangerous Beauty (1998)', 9355158), ('U.S. Marshalls (1998)', 9823626), ('Primary Colors (1998)', 10041176), ('Lost in Space (1998)', 9311134), ('Mercury Rising (1998)', 10036628), ('City of Angels (1998)', 10007658), ('Two Bits (1995)', 9904946), ('Farewell My Concubine (1993)', 9688206), ('Dead Man (1995)', 9866689), ('Raise the Red Lantern (1991)', 9994142), ('Down Periscope (1996)', 9959475), ('Craft, The (1996)', 7606434), ('Harriet the Spy (1996)', 9903925), ('Island of Dr. Moreau, The (1996)', 10024328), ('First Kid (1996)', 9831897), ('Funeral, The (1996)', 9979579), (\"Preacher's Wife, The (1996)\", 9448643), ('Paradise Road (1997)', 9931463), ('Thousand Acres, A (1997)', 9874070), ('Airheads (1994)', 9264117), ('Muppet Treasure Island (1996)', 9252796), ('Batman Forever (1995)', 9297528), ('Remains of the Day, The (1993)', 9732245), ('Mystery Science Theater 3000: The Movie (1996)', 9835933), ('Dead Poets Society (1989)', 9962595), ('Akira (1988)', 9971501), ('When Harry Met Sally... (1989)', 9894549), ('Kull the Conqueror (1997)', 9988712), ('Deconstructing Harry (1997)', 9842559), ('Jeffrey (1995)', 10014942), ('Naked Gun 33 1/3: The Final Insult (1994)', 10017031), ('Pinocchio (1940)', 10027141), ('Amityville Horror, The (1979)', 9783757), ('Jungle Book, The (1994)', 10029928), ('Dial M for Murder (1954)', 10030265), ('Pocahontas (1995)', 10032981), ('Die Hard: With a Vengeance (1995)', 10033868), ('Village of the Damned (1995)', 9971957), ('Police Story 4: Project S (Chao ji ji hua) (1993)', 9962136), ('So Dear to My Heart (1949)', 9993642), ('Tin Drum, The (Blechtrommel, Die) (1979)', 9842995), ('Body Snatchers (1993)', 10027679), ('Executive Decision (1996)', 9723382), ('Mute Witness (1994)', 9962329), ('Shaggy Dog, The (1959)', 9991756), ('That Thing You Do! (1996)', 10018446), (\"What's Love Got to Do with It (1993)\", 9910723), ('All Dogs Go to Heaven 2 (1996)', 9823641), ('Mirror Has Two Faces, The (1996)', 9971714), ('Critical Care (1997)', 10014195), ('Jaws 2 (1978)', 9895134), ('Son in Law (1993)', 9952479), ('Heavy (1995)', 9899665), ('Amityville: Dollhouse (1996)', 9908731), ('Shanghai Triad (Yao a yao yao dao waipo qiao) (1995)', 7815285), ('Seven (Se7en) (1995)', 8342794), ('White Balloon, The (1995)', 8885302), ('Wallace & Gromit: The Best of Aardman Animation (1996)', 9508508), (\"Bram Stoker's Dracula (1992)\", 9509477), ('Cape Fear (1991)', 9304306), ('Young Guns (1988)', 9737654), ('Steel (1997)', 9991775), ('3 Ninjas: High Noon At Mega Mountain (1998)', 9536013), ('In the Name of the Father (1993)', 10011079), ('Cop Land (1997)', 10009218), ('Game, The (1997)', 10013430), ('Prophecy II, The (1998)', 8253883), ('Alice in Wonderland (1951)', 8956447), ('James and the Giant Peach (1996)', 10009590), ('Trainspotting (1996)', 9860227), ('North by Northwest (1959)', 9546882), ('Candidate, The (1972)', 10011840), ('Cool Hand Luke (1967)', 10022797), ('Ben-Hur (1959)', 9912043), ('My Own Private Idaho (1991)', 9155034), ('Heavenly Creatures (1994)', 10021811), ('Hellraiser: Bloodline (1996)', 9620563), ('Rebecca (1940)', 9870832), ('Three Caballeros, The (1945)', 9340311), ('Sleepers (1996)', 9618450), ('Howling, The (1981)', 7852317), ('Thin Blue Line, The (1988)', 9689369), ('Pump Up the Volume (1990)', 9889841), ('Alien 3 (1992)', 9991726), ('Bad Moon (1996)', 10037075), ('Substance of Fire, The (1996)', 10003491), ('Across the Sea of Time (1995)', 10014100), ('Drop Zone (1994)', 8890518), ('Bogus (1996)', 10034873), ('Perfect Candidate, A (1996)', 10040989), (\"April Fool's Day (1986)\", 10029012), ('Touch (1997)', 9971011), ('Career Girls (1997)', 9964416), ('Murder in the First (1995)', 9947309), ('Bad Boys (1995)', 8908130), ('Rock, The (1996)', 9528384), ('Citizen Kane (1941)', 9777925), ('Godfather: Part II, The (1974)', 9846318), ('Batman & Robin (1997)', 9380851), ('Full Monty, The (1997)', 9989027), ('Dangerous Minds (1995)', 9293607), ('Clueless (1995)', 8713089), ('Bridges of Madison County, The (1995)', 9862128), ('Mighty Morphin Power Rangers: The Movie (1995)', 9779951), ('American Werewolf in London, An (1981)', 10028374), ('Vampire in Brooklyn (1995)', 9193136), ('Rear Window (1954)', 7741011), (\"Sophie's Choice (1982)\", 9636987), ('Jane Eyre (1996)', 9681895), ('Something to Talk About (1995)', 9785828), ('Celluloid Closet, The (1995)', 7760099), ('White Squall (1996)', 9104550), ('Babe (1995)', 7896808), ('Four Weddings and a Funeral (1994)', 8978626), ('Brother Minister: The Assassination of Malcolm X (1994)', 9688511), ('Blade Runner (1982)', 9757962), ('Close Shave, A (1995)', 10027432), (\"Wes Craven's New Nightmare (1994)\", 9879663), ('Wild Bunch, The (1969)', 9911057), ('High Noon (1952)', 10038763), ('Daylight (1996)', 10040846), ('Twelve Monkeys (1995)', 7873153), ('Mighty Aphrodite (1995)', 8978243), ('Taxi Driver (1976)', 9260101), ('Crimson Tide (1995)', 9347871), ('Mad Love (1995)', 9355558), ('Eat Drink Man Woman (1994)', 9485203), ('Legends of the Fall (1994)', 9538597), ('Madness of King George, The (1994)', 9541340), ('Outbreak (1995)', 9544132), ('Three Colors: Red (1994)', 9624284), ('Ace Ventura: Pet Detective (1994)', 9544275), ('Crow, The (1994)', 9669511), ('Maverick (1994)', 9535546), ('Flipper (1996)', 9836590), ('Haunted World of Edward D. Wood Jr., The (1995)', 9841006), ('Twister (1996)', 9849272), ('20,000 Leagues Under the Sea (1954)', 8909369), (\"Weekend at Bernie's (1989)\", 9866903), ('Brazil (1985)', 9567248), ('Grand Day Out, A (1992)', 9900107), ('Amadeus (1984)', 9949792), ('Room with a View, A (1986)', 9945699), ('101 Dalmatians (1996)', 9607548), ('Die Hard 2 (1990)', 9668384), ('Paradise Lost: The Child Murders at Robin Hood Hills (1996)', 9911014), ('Murder at 1600 (1997)', 9512307), ('Conspiracy Theory (1997)', 9282983), ('Deep Rising (1998)', 10006090), ('Powder (1995)', 8770632), ('Houseguest (1994)', 9585765), (\"Muriel's Wedding (1994)\", 10016108), ('True Lies (1994)', 9321361), ('Serial Mom (1994)', 9890621), ('Very Brady Sequel, A (1996)', 9050707), ('Day the Earth Stood Still, The (1951)', 9929612), ('Amityville 3-D (1983)', 10028380), ('Grease (1978)', 10016324), ('Dragonheart (1996)', 9668803), ('To Catch a Thief (1955)', 9870588), ('Around the World in 80 Days (1956)', 10031715), ('Bringing Up Baby (1938)', 10000531), ('African Queen, The (1951)', 9997244), ('Waterworld (1995)', 9469229), ('Englishman Who Went Up a Hill, But Came Down a Mountain, The (1995)', 9929769), ('Piano, The (1993)', 7999251), ('American in Paris, An (1951)', 9997457), ('Night of the Living Dead (1968)', 10031495), ('American President, The (1995)', 10012004), ('Home for the Holidays (1995)', 9871955), ('In the Bleak Midwinter (1995)', 8897724), ('Mallrats (1995)', 9016151), ('Castle Freak (1995)', 9862613), ('Air Up There, The (1994)', 9354988), ('Great White Hype, The (1996)', 9884722), ('Bulletproof (1996)', 9331104), ('Loch Ness (1995)', 10040981), ('Nosferatu a Venezia (1986)', 9750128), ('Ma vie en rose (My Life in Pink) (1997)', 9459794), ('Great Expectations (1998)', 9287032), ('Vermin (1998)', 9155733), ('Nil By Mouth (1997)', 9754964), ('Richard III (1995)', 8336414), (\"Robert A. Heinlein's The Puppet Masters (1994)\", 9711199), ('Willy Wonka and the Chocolate Factory (1971)', 9892873), ('Manon of the Spring (Manon des sources) (1986)', 9896999), ('Blues Brothers, The (1980)', 9615222), ('Terminator, The (1984)', 9823942), ('Pink Floyd - The Wall (1982)', 9487079), ('Raising Arizona (1987)', 9911534), ('Starship Troopers (1997)', 9940066), (\"One Flew Over the Cuckoo's Nest (1975)\", 10014589), ('Fear of a Black Hat (1993)', 9695351), ('Last Action Hero (1993)', 9842618), ('Vertigo (1958)', 9937645), ('Wild Bill (1995)', 9827795), (\"Daniel Defoe's Robinson Crusoe (1996)\", 10031948), ('Robin Hood: Prince of Thieves (1991)', 9887596), ('Body Parts (1991)', 9891102), ('Better Off Dead... (1985)', 10009851), ('Boomerang (1992)', 9976650), ('Days of Thunder (1990)', 9172361), ('Excess Baggage (1997)', 9677491), ('Flower of My Secret, The (Flor de mi secreto, La) (1995)', 9355164), ('Brothers McMullen, The (1995)', 9326663), ('I.Q. (1994)', 9535378), ('Cable Guy, The (1996)', 9858036), ('2001: A Space Odyssey (1968)', 9664799), ('Dirty Dancing (1987)', 8557935), ('Return of the Pink Panther, The (1974)', 9352109), ('Raiders of the Lost Ark (1981)', 8802338), ('Army of Darkness (1993)', 9337784), ('Indiana Jones and the Last Crusade (1989)', 9910554), ('Mars Attacks! (1996)', 9946052), ('Citizen Ruth (1996)', 9734499), ('Hunt for Red October, The (1990)', 8987397), ('Apt Pupil (1998)', 9536173), ('Adventures of Priscilla, Queen of the Desert, The (1994)', 9488044), ('Aladdin and the King of Thieves (1996)', 9850425), ('Birds, The (1963)', 9997092), ('Omen, The (1976)', 9949390), ('Crossing Guard, The (1995)', 9259733), ('Farinelli: il castrato (1994)', 9501365), ('Another Stakeout (1993)', 9708575), (\"Blood For Dracula (Andy Warhol's Dracula) (1974)\", 9580981), ('Casino (1995)', 9981946), ('Kicking and Screaming (1995)', 9713884), ('Circle of Friends (1995)', 9745855), ('Ransom (1996)', 8861107), ('Burnt By the Sun (1994)', 9745879), ('Tommy Boy (1995)', 8348085), ('Andre (1994)', 9222940), ('Ninotchka (1939)', 9450817), ('Paris Was a Woman (1995)', 9926746), ('Telling Lies in America (1997)', 9773656), ('Winter Guest, The (1997)', 9890841), ('Afterglow (1997)', 9682123), ('Brassed Off (1996)', 9264085), ('Smile Like Yours, A (1997)', 9866714), ('Rudy (1993)', 10022189), ('Tales from the Hood (1995)', 10033895), ('Blown Away (1994)', 9295237), ('Secret Garden, The (1993)', 10034137), ('If Lucy Fell (1996)', 9273116), ('Believers, The (1987)', 9803782), ('Four Rooms (1995)', 5320209), ('Independence Day (ID4) (1996)', 9856960), ('Sling Blade (1996)', 9974758), ('Showgirls (1995)', 8596437), ('Tales from the Crypt Presents: Bordello of Blood (1996)', 8913609), ('Butch Cassidy and the Sundance Kid (1969)', 10011801), ('Smoke (1995)', 8914199), ('Deer Hunter, The (1978)', 7603037), ('Picnic (1955)', 9902051), ('Shadowlands (1993)', 6569683), ('Apollo 13 (1995)', 9334317), (\"Breakfast at Tiffany's (1961)\", 9684620), ('Clockwork Orange, A (1971)', 9632870), ('Psycho (1960)', 9943889), ('Contact (1997)', 9645454), (\"Marvin's Room (1996)\", 9923387), ('Wonderland (1997)', 9680818), ('Black Sheep (1996)', 8981250), ('Fantasia (1940)', 10027945), ('Amityville Curse, The (1990)', 9103314), ('Secret of Roan Inish, The (1994)', 10028062), (\"White Man's Burden (1995)\", 9493581), ('Return of Martin Guerre, The (Retour de Martin Guerre, Le) (1982)', 9985588), ('Candyman (1992)', 8927188), ('Gay Divorcee, The (1934)', 9494306), ('Ice Storm, The (1997)', 10007089), ('Fan, The (1996)', 8916209), ('Giant (1956)', 9735125), ('Audrey Rose (1977)', 9237575), ('Hearts and Minds (1996)', 9934674), ('Glengarry Glen Ross (1992)', 9851511), ('Sting, The (1973)', 9960684), ('When the Cats Away (Chacun cherche son chat) (1996)', 9990011), ('Deceiver (1997)', 9936672), ('Mary Poppins (1964)', 9919173), ('Stalingrad (1993)', 9221823), (\"Widows' Peak (1994)\", 9981668), ('Night on Earth (1991)', 9223050), ('Picture Perfect (1997)', 8336001), ('Half Baked (1998)', 9622359), ('Twilight (1998)', 9413429), ('Chain Reaction (1996)', 9682211), ('Abyss, The (1989)', 9614613), ('Playing God (1997)', 9639735), ('First Wives Club, The (1996)', 9458711), ('Swiss Family Robinson (1960)', 8598270), ('Once Upon a Time in the West (1969)', 9847759), ('Bride of Frankenstein (1935)', 9732872), ('Juror, The (1996)', 9698415), ('Immortal Beloved (1994)', 9922187), ('Go Fish (1994)', 8622564), ('Murder, My Sweet (1944)', 9016563), ('Mortal Kombat: Annihilation (1997)', 9867661), ('Anastasia (1997)', 9771111), ('All About Eve (1950)', 9113163), (\"She's So Lovely (1997)\", 8848407), (\"Smilla's Sense of Snow (1997)\", 9433896), ('Time to Kill, A (1996)', 9998797), ('So I Married an Axe Murderer (1993)', 9733664), ('Sleeper (1973)', 7772440), ('Ridicule (1996)', 9975071), ('Restoration (1995)', 8980809), ('Batman (1989)', 9818887), ('Eraser (1996)', 8926913), ('I Know What You Did Last Summer (1997)', 9997726), ('Threesome (1994)', 9970050), ('Replacement Killers, The (1998)', 8927460), ('Delicatessen (1991)', 9709039), ('Bob Roberts (1992)', 9980502), ('Cook the Thief His Wife & Her Lover, The (1989)', 9739190), ('Looking for Richard (1996)', 9627058), ('Aristocats, The (1970)', 9544591), ('Firm, The (1993)', 9689762), ('Dances with Wolves (1990)', 9217469), ('Treasure of the Sierra Madre, The (1948)', 9458791), ('Romeo Is Bleeding (1993)', 6925544), ('Fair Game (1995)', 9649450), ('Escape from L.A. (1996)', 8917929), ('Ed Wood (1994)', 9489979), ('On Golden Pond (1981)', 8851586), ('Little Women (1994)', 7577573), ('Gandhi (1982)', 10032930), ('With Honors (1994)', 9794036), ('Belle de jour (1967)', 9345037), ('Wyatt Earp (1994)', 9402253), ('Fugitive, The (1993)', 8885638), ('Adventures of Robin Hood, The (1938)', 9673521), ('Bad Company (1995)', 10019201), ('Bad Taste (1987)', 9344885), ('Star Wars (1977)', 7970374), ('Spitfire Grill, The (1996)', 8933223), ('Fish Called Wanda, A (1988)', 9089624), ('Monty Python and the Holy Grail (1974)', 8851902), ('GoodFellas (1990)', 9778394), ('Bio-Dome (1996)', 9220404), ('Dr. Strangelove or: How I Learned to Stop Worrying and Love the Bomb (1963)', 8937042), ('Apartment, The (1960)', 9221118), ('Rebel Without a Cause (1955)', 9818385), ('People vs. Larry Flynt, The (1996)', 8903228), ('Wings of Desire (1987)', 8702320), ('Boot, Das (1981)', 8937460), ('My Life as a Dog (Mitt liv som hund) (1985)', 9892334), ('Quick and the Dead, The (1995)', 9387652), (\"Stephen King's The Langoliers (1995)\", 9944255), ('Boxing Helena (1993)', 9155115), ('The Innocent (1994)', 10033279), ('Philadelphia (1993)', 9937929), ('Dumb & Dumber (1994)', 10001675), ('French Kiss (1995)', 10040775), ('Speechless (1994)', 9839654), ('Horseman on the Roof, The (Hussard sur le toit, Le) (1995)', 9584606), ('Cyrano de Bergerac (1990)', 9242905), ('Star Trek VI: The Undiscovered Country (1991)', 9056572), ('My Favorite Year (1982)', 10013027), ('Amityville: A New Generation (1993)', 10026837), ('Tin Cup (1996)', 8936017), ('Kiss the Girls (1997)', 8907065), (\"Eve's Bayou (1997)\", 8804560), ('Girl 6 (1996)', 10017339), ('Henry V (1989)', 8930138), ('M*A*S*H (1970)', 8774426), ('Cat People (1982)', 10038991), ('Love and Death on Long Island (1997)', 9950662), ('Glory (1989)', 9210853), ('D3: The Mighty Ducks (1996)', 9816327), ('Hoodlum (1997)', 9561980), ('Jerry Maguire (1996)', 9841912), ('Nick of Time (1995)', 10039855), ('Seventh Seal, The (Sjunde inseglet, Det) (1957)', 9241739), ('Event Horizon (1997)', 9818295), ('GoldenEye (1995)', 5264088), ('Coneheads (1993)', 9848796), ('Wonderful, Horrible Life of Leni Riefenstahl, The (1993)', 9627850), ('Unforgettable (1996)', 5187186), ('Desperado (1995)', 9350608), ('Doom Generation, The (1995)', 9351641), ('Strange Days (1995)', 9393434), ('Ref, The (1994)', 9712537), ('Operation Dumbo Drop (1995)', 9350719), ('Supercop (1992)', 9712602), ('Empire Strikes Back, The (1980)', 9849639), ('Back to the Future (1985)', 9352680), ('Patton (1970)', 9970634), ('Sneakers (1992)', 8925041), ('FairyTale: A True Story (1997)', 9940096), ('Wedding Singer, The (1998)', 9969375), ('Spy Hard (1996)', 9887303), ('To Kill a Mockingbird (1962)', 9900989), ('Star Trek V: The Final Frontier (1989)', 9941586), ('Maltese Falcon, The (1941)', 8893619), ('Persuasion (1995)', 9351328), ('Canadian Bacon (1994)', 9713970), ('Boys on the Side (1995)', 10032735), ('Pretty Woman (1990)', 9394639), ('Hard Target (1993)', 9228838), ('Freeway (1996)', 10027272), ('Jingle All the Way (1996)', 10041057), ('Time Tracers (1995)', 9888088), ('Three Colors: Blue (1993)', 9627179), ('Phenomenon (1996)', 9712170), ('Wizard of Oz, The (1939)', 8934654), ('Jean de Florette (1986)', 9207194), ('Men in Black (1997)', 8905125), ('Sunset Blvd. (1950)', 10031656), ('Dumbo (1941)', 8914693), ('My Left Foot (1989)', 9354256), ('Annie Hall (1977)', 9969823), (\"Miller's Crossing (1990)\", 10032701), ('Wolf (1994)', 8883658), ('Terminal Velocity (1994)', 10034530), ('Beauty and the Beast (1991)', 9241667), ('Sword in the Stone, The (1963)', 9222157), ('Corrina, Corrina (1994)', 9058002), ('Rising Sun (1993)', 8938129), ('Shadow, The (1994)', 9222922), ('One Fine Day (1996)', 9355140), ('Mulholland Falls (1996)', 9231225), ('Crumb (1994)', 8908211), ('Truth About Cats & Dogs, The (1996)', 9586503), ('Love Bug, The (1969)', 9217519), ('Lawnmower Man, The (1992)', 9885477), ('Ghost and the Darkness, The (1996)', 9886753), (\"Monty Python's Life of Brian (1979)\", 9226786), ('Wrong Trousers, The (1993)', 9218242), ('Cinema Paradiso (1988)', 9345283), ('Star Trek: The Wrath of Khan (1982)', 9054166), ('In & Out (1997)', 9219974), ('As Good As It Gets (1997)', 8854789), ('U Turn (1997)', 8936479), ('Fallen (1998)', 9904260), ('Spice World (1997)', 8944549), ('Incognito (1997)', 9353812), ('Transformers: The Movie, The (1986)', 9887335), ('Duck Soup (1933)', 9220770), ('Body Snatcher, The (1945)', 8892107), ('Killing Fields, The (1984)', 9394290), ('Man Who Would Be King, The (1975)', 9904498), ('39 Steps, The (1935)', 9901166), ('Stand by Me (1986)', 8940379), ('Perfect World, A (1993)', 9222434), ('MatchMaker, The (1997)', 9869935), ('Red Corner (1997)', 9058223), ('Johnny Mnemonic (1995)', 9354841), ('Prophecy, The (1995)', 8932479), ('Perez Family, The (1995)', 10040789), ('In the Mouth of Madness (1995)', 8917696), ('Poetic Justice (1993)', 8835361), ('Program, The (1993)', 9355028), ('Thirty-Two Short Films About Glenn Gould (1993)', 9940485), ('Frisk (1995)', 9586139), ('Phantom, The (1996)', 9058401), ('Bloody Child, The (1996)', 9869940), ('City of Lost Children, The (1995)', 10031591), ('Net, The (1995)', 9052628), ('Exotica (1994)', 9345064), ('Snow White and the Seven Dwarfs (1937)', 9818686), ('Theodore Rex (1995)', 8863555), ('Diabolique (1996)', 9824886), ('Bedknobs and Broomsticks (1971)', 9393491), ('Unhook the Stars (1996)', 9053010), ('12 Angry Men (1957)', 9904057), ('Nightmare on Elm Street, A (1984)', 9240893), ('George of the Jungle (1997)', 9825048), ('Up Close and Personal (1996)', 9224152), ('River Wild, The (1994)', 8895824), ('Emma (1996)', 9056834), ('Sphere (1998)', 9885518), ('Flintstones, The (1994)', 9224299), ('Three Musketeers, The (1993)', 8913554), ('Jack (1996)', 8944687), ('Parent Trap, The (1961)', 9900770), ('Carrie (1976)', 10028850), ('Misérables, Les (1995)', 9869683), ('Broken Arrow (1996)', 8332054), ('Paris Is Burning (1990)', 9901193), ('Tomorrow Never Dies (1997)', 10014096), ('Little Odessa (1994)', 9104227), ('Milk Money (1994)', 9394760), ('Eddie (1996)', 8917781), ('Last Man Standing (1996)', 9885894), ('Glimmer Man, The (1996)', 9941781), ('Diva (1981)', 8862052), ('Love Jones (1997)', 8862112), ('Wild Things (1998)', 9394803), (\"Schindler's List (1993)\", 8865755), ('Boogie Nights (1997)', 10013710), (\"McHale's Navy (1997)\", 9817558), ('Magnificent Seven, The (1954)', 10013831), ('Free Willy 2: The Adventure Home (1995)', 9355175), ('Searching for Bobby Fischer (1993)', 9733205), ('Sudden Death (1995)', 9446566), ('Gigi (1958)', 9825154), ('Beavis and Butt-head Do America (1996)', 8911095), ('Good Will Hunting (1997)', 8935556), ('In the Line of Fire (1993)', 9230919), ('Tin Men (1987)', 10039123), ('Great Race, The (1965)', 10013862), ('Junior (1994)', 8933941)])"
      ]
     },
     "execution_count": 61,
     "metadata": {},
     "output_type": "execute_result"
    }
   ],
   "source": [
    "hashmap = {\n",
    "            movie: i for i, movie in\n",
    "            enumerate(list(df.set_index('itemId').loc[mat_movie_features.indices].title))}\n"
   ]
  },
  {
   "cell_type": "code",
   "execution_count": null,
   "metadata": {},
   "outputs": [],
   "source": []
  },
  {
   "cell_type": "code",
   "execution_count": 5,
   "metadata": {},
   "outputs": [
    {
     "data": {
      "text/html": [
       "<div>\n",
       "<style scoped>\n",
       "    .dataframe tbody tr th:only-of-type {\n",
       "        vertical-align: middle;\n",
       "    }\n",
       "\n",
       "    .dataframe tbody tr th {\n",
       "        vertical-align: top;\n",
       "    }\n",
       "\n",
       "    .dataframe thead th {\n",
       "        text-align: right;\n",
       "    }\n",
       "</style>\n",
       "<table border=\"1\" class=\"dataframe\">\n",
       "  <thead>\n",
       "    <tr style=\"text-align: right;\">\n",
       "      <th></th>\n",
       "      <th>userID</th>\n",
       "      <th>ISBN</th>\n",
       "      <th>bookRating</th>\n",
       "    </tr>\n",
       "  </thead>\n",
       "  <tbody>\n",
       "    <tr>\n",
       "      <th>0</th>\n",
       "      <td>276725</td>\n",
       "      <td>034545104X</td>\n",
       "      <td>0</td>\n",
       "    </tr>\n",
       "    <tr>\n",
       "      <th>1</th>\n",
       "      <td>276726</td>\n",
       "      <td>0155061224</td>\n",
       "      <td>5</td>\n",
       "    </tr>\n",
       "    <tr>\n",
       "      <th>2</th>\n",
       "      <td>276727</td>\n",
       "      <td>0446520802</td>\n",
       "      <td>0</td>\n",
       "    </tr>\n",
       "    <tr>\n",
       "      <th>3</th>\n",
       "      <td>276729</td>\n",
       "      <td>052165615X</td>\n",
       "      <td>3</td>\n",
       "    </tr>\n",
       "    <tr>\n",
       "      <th>4</th>\n",
       "      <td>276729</td>\n",
       "      <td>0521795028</td>\n",
       "      <td>6</td>\n",
       "    </tr>\n",
       "  </tbody>\n",
       "</table>\n",
       "</div>"
      ],
      "text/plain": [
       "   userID        ISBN  bookRating\n",
       "0  276725  034545104X           0\n",
       "1  276726  0155061224           5\n",
       "2  276727  0446520802           0\n",
       "3  276729  052165615X           3\n",
       "4  276729  0521795028           6"
      ]
     },
     "execution_count": 5,
     "metadata": {},
     "output_type": "execute_result"
    }
   ],
   "source": [
    "rating.head()"
   ]
  },
  {
   "cell_type": "code",
   "execution_count": 6,
   "metadata": {},
   "outputs": [],
   "source": [
    "df=pd.merge(user,rating,how='inner')"
   ]
  },
  {
   "cell_type": "code",
   "execution_count": 7,
   "metadata": {},
   "outputs": [
    {
     "data": {
      "text/html": [
       "<div>\n",
       "<style scoped>\n",
       "    .dataframe tbody tr th:only-of-type {\n",
       "        vertical-align: middle;\n",
       "    }\n",
       "\n",
       "    .dataframe tbody tr th {\n",
       "        vertical-align: top;\n",
       "    }\n",
       "\n",
       "    .dataframe thead th {\n",
       "        text-align: right;\n",
       "    }\n",
       "</style>\n",
       "<table border=\"1\" class=\"dataframe\">\n",
       "  <thead>\n",
       "    <tr style=\"text-align: right;\">\n",
       "      <th></th>\n",
       "      <th>userID</th>\n",
       "      <th>Location</th>\n",
       "      <th>Age</th>\n",
       "      <th>ISBN</th>\n",
       "      <th>bookRating</th>\n",
       "    </tr>\n",
       "  </thead>\n",
       "  <tbody>\n",
       "    <tr>\n",
       "      <th>0</th>\n",
       "      <td>2</td>\n",
       "      <td>stockton, california, usa</td>\n",
       "      <td>18.0</td>\n",
       "      <td>0195153448</td>\n",
       "      <td>0</td>\n",
       "    </tr>\n",
       "    <tr>\n",
       "      <th>1</th>\n",
       "      <td>7</td>\n",
       "      <td>washington, dc, usa</td>\n",
       "      <td>NaN</td>\n",
       "      <td>034542252</td>\n",
       "      <td>0</td>\n",
       "    </tr>\n",
       "    <tr>\n",
       "      <th>2</th>\n",
       "      <td>8</td>\n",
       "      <td>timmins, ontario, canada</td>\n",
       "      <td>NaN</td>\n",
       "      <td>0002005018</td>\n",
       "      <td>5</td>\n",
       "    </tr>\n",
       "    <tr>\n",
       "      <th>3</th>\n",
       "      <td>8</td>\n",
       "      <td>timmins, ontario, canada</td>\n",
       "      <td>NaN</td>\n",
       "      <td>0060973129</td>\n",
       "      <td>0</td>\n",
       "    </tr>\n",
       "    <tr>\n",
       "      <th>4</th>\n",
       "      <td>8</td>\n",
       "      <td>timmins, ontario, canada</td>\n",
       "      <td>NaN</td>\n",
       "      <td>0374157065</td>\n",
       "      <td>0</td>\n",
       "    </tr>\n",
       "  </tbody>\n",
       "</table>\n",
       "</div>"
      ],
      "text/plain": [
       "   userID                   Location   Age        ISBN  bookRating\n",
       "0       2  stockton, california, usa  18.0  0195153448           0\n",
       "1       7        washington, dc, usa   NaN   034542252           0\n",
       "2       8   timmins, ontario, canada   NaN  0002005018           5\n",
       "3       8   timmins, ontario, canada   NaN  0060973129           0\n",
       "4       8   timmins, ontario, canada   NaN  0374157065           0"
      ]
     },
     "execution_count": 7,
     "metadata": {},
     "output_type": "execute_result"
    }
   ],
   "source": [
    "df.head()"
   ]
  },
  {
   "cell_type": "code",
   "execution_count": 8,
   "metadata": {},
   "outputs": [],
   "source": [
    "df.drop(['Location','Age'],axis=1,inplace=True)"
   ]
  },
  {
   "cell_type": "code",
   "execution_count": 9,
   "metadata": {},
   "outputs": [
    {
     "data": {
      "text/html": [
       "<div>\n",
       "<style scoped>\n",
       "    .dataframe tbody tr th:only-of-type {\n",
       "        vertical-align: middle;\n",
       "    }\n",
       "\n",
       "    .dataframe tbody tr th {\n",
       "        vertical-align: top;\n",
       "    }\n",
       "\n",
       "    .dataframe thead th {\n",
       "        text-align: right;\n",
       "    }\n",
       "</style>\n",
       "<table border=\"1\" class=\"dataframe\">\n",
       "  <thead>\n",
       "    <tr style=\"text-align: right;\">\n",
       "      <th></th>\n",
       "      <th>userID</th>\n",
       "      <th>ISBN</th>\n",
       "      <th>bookRating</th>\n",
       "    </tr>\n",
       "  </thead>\n",
       "  <tbody>\n",
       "    <tr>\n",
       "      <th>0</th>\n",
       "      <td>2</td>\n",
       "      <td>0195153448</td>\n",
       "      <td>0</td>\n",
       "    </tr>\n",
       "    <tr>\n",
       "      <th>1</th>\n",
       "      <td>7</td>\n",
       "      <td>034542252</td>\n",
       "      <td>0</td>\n",
       "    </tr>\n",
       "    <tr>\n",
       "      <th>2</th>\n",
       "      <td>8</td>\n",
       "      <td>0002005018</td>\n",
       "      <td>5</td>\n",
       "    </tr>\n",
       "    <tr>\n",
       "      <th>3</th>\n",
       "      <td>8</td>\n",
       "      <td>0060973129</td>\n",
       "      <td>0</td>\n",
       "    </tr>\n",
       "    <tr>\n",
       "      <th>4</th>\n",
       "      <td>8</td>\n",
       "      <td>0374157065</td>\n",
       "      <td>0</td>\n",
       "    </tr>\n",
       "  </tbody>\n",
       "</table>\n",
       "</div>"
      ],
      "text/plain": [
       "   userID        ISBN  bookRating\n",
       "0       2  0195153448           0\n",
       "1       7   034542252           0\n",
       "2       8  0002005018           5\n",
       "3       8  0060973129           0\n",
       "4       8  0374157065           0"
      ]
     },
     "execution_count": 9,
     "metadata": {},
     "output_type": "execute_result"
    }
   ],
   "source": [
    "df.head()"
   ]
  },
  {
   "cell_type": "code",
   "execution_count": 10,
   "metadata": {},
   "outputs": [
    {
     "name": "stdout",
     "output_type": "stream",
     "text": [
      "<class 'pandas.core.frame.DataFrame'>\n",
      "Int64Index: 1149780 entries, 0 to 1149779\n",
      "Data columns (total 3 columns):\n",
      "userID        1149780 non-null int64\n",
      "ISBN          1149780 non-null object\n",
      "bookRating    1149780 non-null int64\n",
      "dtypes: int64(2), object(1)\n",
      "memory usage: 35.1+ MB\n"
     ]
    }
   ],
   "source": [
    "df.info()"
   ]
  },
  {
   "cell_type": "code",
   "execution_count": null,
   "metadata": {},
   "outputs": [],
   "source": [
    "\n",
    "# pivot ratings into movie features\n",
    "df_book_features = df.pivot(\n",
    "    index='ISBN',\n",
    "    columns='userID',\n",
    "    values='bookRating'\n",
    ").fillna(0)\n"
   ]
  },
  {
   "cell_type": "code",
   "execution_count": null,
   "metadata": {},
   "outputs": [],
   "source": []
  },
  {
   "cell_type": "code",
   "execution_count": null,
   "metadata": {},
   "outputs": [],
   "source": [
    "mat_book_features = csr_matrix(df_book_features.values)"
   ]
  },
  {
   "cell_type": "code",
   "execution_count": null,
   "metadata": {},
   "outputs": [],
   "source": [
    "mat_book_features.head()"
   ]
  },
  {
   "cell_type": "markdown",
   "metadata": {},
   "source": [
    "### Ratings Distribution"
   ]
  },
  {
   "cell_type": "code",
   "execution_count": 10,
   "metadata": {},
   "outputs": [
    {
     "data": {
      "image/png": "[encoded data removed]",
      "text/plain": [
       "<Figure size 1440x720 with 1 Axes>"
      ]
     },
     "metadata": {
      "needs_background": "light"
     },
     "output_type": "display_data"
    }
   ],
   "source": [
    "counts=df.bookRating.value_counts()\n",
    "plt.figure(figsize=(20,10))\n",
    "plt.barh(counts.index,counts.values)\n",
    "plt.show()"
   ]
  },
  {
   "cell_type": "markdown",
   "metadata": {},
   "source": [
    "### Distribution of Ratings per Book"
   ]
  },
  {
   "cell_type": "code",
   "execution_count": 19,
   "metadata": {},
   "outputs": [],
   "source": [
    "book_ratings=df.groupby('ISBN')['bookRating'].count().clip(upper=50)"
   ]
  },
  {
   "cell_type": "code",
   "execution_count": 20,
   "metadata": {},
   "outputs": [
    {
     "data": {
      "text/plain": [
       "array([ 2,  1,  8,  5,  6, 14,  9,  3,  4, 13, 10, 15, 12, 19,  7, 17, 18,\n",
       "       11, 24, 50, 33, 23, 26, 16, 39, 38, 30, 20, 22, 27, 46, 44, 42, 29,\n",
       "       31, 21, 35, 28, 34, 37, 36, 49, 32, 41, 45, 43, 25, 48, 40, 47])"
      ]
     },
     "execution_count": 20,
     "metadata": {},
     "output_type": "execute_result"
    }
   ],
   "source": [
    "book_ratings.unique()"
   ]
  },
  {
   "cell_type": "code",
   "execution_count": 21,
   "metadata": {},
   "outputs": [
    {
     "data": {
      "image/png": "[encoded data removed]",
      "text/plain": [
       "<Figure size 1440x720 with 1 Axes>"
      ]
     },
     "metadata": {
      "needs_background": "light"
     },
     "output_type": "display_data"
    }
   ],
   "source": [
    "plt.figure(figsize=(20,10))\n",
    "plt.hist(book_ratings)\n",
    "plt.show()"
   ]
  },
  {
   "cell_type": "markdown",
   "metadata": {},
   "source": [
    "### Distribution of Ratings per User"
   ]
  },
  {
   "cell_type": "code",
   "execution_count": 22,
   "metadata": {},
   "outputs": [],
   "source": [
    "user_ratings=df.groupby('userID')['bookRating'].count().clip(upper=50)"
   ]
  },
  {
   "cell_type": "code",
   "execution_count": 23,
   "metadata": {},
   "outputs": [
    {
     "data": {
      "image/png": "[encoded data removed]",
      "text/plain": [
       "<Figure size 1440x720 with 1 Axes>"
      ]
     },
     "metadata": {
      "needs_background": "light"
     },
     "output_type": "display_data"
    }
   ],
   "source": [
    "plt.figure(figsize=(20,10))\n",
    "plt.hist(book_ratings)\n",
    "plt.show()"
   ]
  },
  {
   "cell_type": "markdown",
   "metadata": {},
   "source": [
    "### Set Threshold or filter values for users and ratings"
   ]
  },
  {
   "cell_type": "markdown",
   "metadata": {},
   "source": [
    "#### set the threshold values to 50 for both user and ratings"
   ]
  },
  {
   "cell_type": "code",
   "execution_count": 36,
   "metadata": {},
   "outputs": [
    {
     "name": "stdout",
     "output_type": "stream",
     "text": [
      "The original data frame shape:\t(1149780, 3)\n",
      "The new data frame shape:\t(140516, 3)\n"
     ]
    }
   ],
   "source": [
    "min_book_ratings = 50\n",
    "filter_books = df['ISBN'].value_counts() > min_book_ratings\n",
    "filter_books = filter_books[filter_books].index.tolist()\n",
    "\n",
    "min_user_ratings = 50\n",
    "filter_users = df['userID'].value_counts() > min_user_ratings\n",
    "filter_users = filter_users[filter_users].index.tolist()\n",
    "\n",
    "df_new = df[(df['ISBN'].isin(filter_books)) & (df['userID'].isin(filter_users))]\n",
    "print('The original data frame shape:\\t{}'.format(df.shape))\n",
    "print('The new data frame shape:\\t{}'.format(df_new.shape))"
   ]
  },
  {
   "cell_type": "markdown",
   "metadata": {},
   "source": [
    "### Use Surprise.Dataset method to create a df to be used for recommender system by surprise library"
   ]
  },
  {
   "cell_type": "code",
   "execution_count": 29,
   "metadata": {},
   "outputs": [],
   "source": [
    "reader = Reader(rating_scale=(0, 9))\n",
    "data = Dataset.load_from_df(df_new[['userID','ISBN','bookRating']], reader)"
   ]
  },
  {
   "cell_type": "markdown",
   "metadata": {},
   "source": [
    "### Check which method in Surprise will give best output"
   ]
  },
  {
   "cell_type": "code",
   "execution_count": null,
   "metadata": {},
   "outputs": [],
   "source": [
    "benchmark = []\n",
    "# Iterate over all algorithms\n",
    "for algorithm in [SVD(), SVDpp(), SlopeOne(), NMF(), NormalPredictor(), KNNBaseline(), KNNBasic(), KNNWithMeans(), KNNWithZScore(), BaselineOnly(), CoClustering()]:\n",
    "    # Perform cross validation\n",
    "    results = cross_validate(algorithm, data, measures=['RMSE'], cv=3, verbose=False)\n",
    "    \n",
    "    # Get results & append algorithm name\n",
    "    tmp = pd.DataFrame.from_dict(results).mean(axis=0)\n",
    "    tmp = tmp.append(pd.Series([str(algorithm).split('')[0].split('.')[-1]], index=['Algorithm']))\n",
    "    benchmark.append(tmp)\n",
    "    \n",
    "pd.DataFrame(benchmark).set_index('Algorithm').sort_values('test_rmse')    "
   ]
  },
  {
   "cell_type": "code",
   "execution_count": 40,
   "metadata": {},
   "outputs": [],
   "source": [
    "train,test=surprise.model_selection.train_test_split(data,test_size=0.3)"
   ]
  },
  {
   "cell_type": "code",
   "execution_count": 92,
   "metadata": {},
   "outputs": [
    {
     "name": "stdout",
     "output_type": "stream",
     "text": [
      "Estimating biases using als...\n",
      "RMSE: 3.3815\n"
     ]
    },
    {
     "data": {
      "text/plain": [
       "Prediction(uid='31919', iid='1558745718', r_ui=None, est=3.9454844372139597, details={'was_impossible': False})"
      ]
     },
     "execution_count": 92,
     "metadata": {},
     "output_type": "execute_result"
    }
   ],
   "source": [
    "recommender = BaselineOnly()\n",
    "predictions = recommender.fit(train)\n",
    "predictions=predictions.test(test)\n",
    "accuracy.rmse(predictions)\n",
    "recommend=recommender.predict(uid=\"31919\",iid='1558745718')\n",
    "recommend\n"
   ]
  },
  {
   "cell_type": "code",
   "execution_count": 81,
   "metadata": {},
   "outputs": [
    {
     "data": {
      "text/plain": [
       "Prediction(uid='31919', iid='105', r_ui=None, est=2.3431542989599534, details={'was_impossible': False})"
      ]
     },
     "execution_count": 81,
     "metadata": {},
     "output_type": "execute_result"
    }
   ],
   "source": [
    "user_prediction=recommender.predict(uid='31919',iid='105')\n",
    "user_prediction.est\n",
    "user_prediction"
   ]
  },
  {
   "cell_type": "markdown",
   "metadata": {},
   "source": [
    "### Some Predictions"
   ]
  },
  {
   "cell_type": "code",
   "execution_count": 100,
   "metadata": {},
   "outputs": [],
   "source": [
    "def get_Iu(uid):\n",
    "    \"\"\" return the number of items rated by given user\n",
    "    args: \n",
    "      uid: the id of the user\n",
    "    returns: \n",
    "      the number of items rated by the user\n",
    "    \"\"\"\n",
    "    try:\n",
    "        return len(train.ur[train.to_inner_uid(uid)])\n",
    "    except ValueError: # user was not part of the trainset\n",
    "        return 0\n",
    "    \n",
    "def get_Ui(iid):\n",
    "    \"\"\" return number of users that have rated given item\n",
    "    args:\n",
    "      iid: the raw id of the item\n",
    "    returns:\n",
    "      the number of users that have rated the item.\n",
    "    \"\"\"\n",
    "    try: \n",
    "        return len(train.ir[train.to_inner_iid(iid)])\n",
    "    except ValueError:\n",
    "        return 0\n",
    "    \n",
    "df = pd.DataFrame(predictions, columns=['userID','ItemID','rui','predicted_rating','details'])\n",
    "df['#Items_Rated_by_User'] = df.userID.apply(get_Iu)\n",
    "df['#Ratings_by_Users'] = df.ItemID.apply(get_Ui)\n",
    "df['err'] = abs(df.predicted_rating - df.rui)\n",
    "best_predictions = df.loc[df['err']>0.0].sort_values(by='err')[:10]\n",
    "worst_predictions = df.sort_values(by='err')[-10:]\n",
    "user_recommendation=list(df.groupby('userID')['ItemID'])"
   ]
  },
  {
   "cell_type": "code",
   "execution_count": 122,
   "metadata": {},
   "outputs": [
    {
     "data": {
      "text/html": [
       "<div>\n",
       "<style scoped>\n",
       "    .dataframe tbody tr th:only-of-type {\n",
       "        vertical-align: middle;\n",
       "    }\n",
       "\n",
       "    .dataframe tbody tr th {\n",
       "        vertical-align: top;\n",
       "    }\n",
       "\n",
       "    .dataframe thead th {\n",
       "        text-align: right;\n",
       "    }\n",
       "</style>\n",
       "<table border=\"1\" class=\"dataframe\">\n",
       "  <thead>\n",
       "    <tr style=\"text-align: right;\">\n",
       "      <th></th>\n",
       "      <th>userID</th>\n",
       "      <th>ItemID</th>\n",
       "      <th>rui</th>\n",
       "      <th>predicted_rating</th>\n",
       "      <th>details</th>\n",
       "      <th>#Items_Rated_by_User</th>\n",
       "      <th>#Ratings_by_Users</th>\n",
       "      <th>err</th>\n",
       "    </tr>\n",
       "  </thead>\n",
       "  <tbody>\n",
       "    <tr>\n",
       "      <th>1</th>\n",
       "      <td>212467</td>\n",
       "      <td>1558745718</td>\n",
       "      <td>5.0</td>\n",
       "      <td>3.518481</td>\n",
       "      <td>{'was_impossible': False}</td>\n",
       "      <td>15</td>\n",
       "      <td>37</td>\n",
       "      <td>1.481519</td>\n",
       "    </tr>\n",
       "    <tr>\n",
       "      <th>2676</th>\n",
       "      <td>212467</td>\n",
       "      <td>0553583441</td>\n",
       "      <td>0.0</td>\n",
       "      <td>1.692548</td>\n",
       "      <td>{'was_impossible': False}</td>\n",
       "      <td>15</td>\n",
       "      <td>48</td>\n",
       "      <td>1.692548</td>\n",
       "    </tr>\n",
       "    <tr>\n",
       "      <th>5918</th>\n",
       "      <td>212467</td>\n",
       "      <td>0553581554</td>\n",
       "      <td>8.0</td>\n",
       "      <td>1.417721</td>\n",
       "      <td>{'was_impossible': False}</td>\n",
       "      <td>15</td>\n",
       "      <td>56</td>\n",
       "      <td>6.582279</td>\n",
       "    </tr>\n",
       "    <tr>\n",
       "      <th>7090</th>\n",
       "      <td>212467</td>\n",
       "      <td>0060928336</td>\n",
       "      <td>0.0</td>\n",
       "      <td>2.362612</td>\n",
       "      <td>{'was_impossible': False}</td>\n",
       "      <td>15</td>\n",
       "      <td>258</td>\n",
       "      <td>2.362612</td>\n",
       "    </tr>\n",
       "    <tr>\n",
       "      <th>10845</th>\n",
       "      <td>212467</td>\n",
       "      <td>0515119644</td>\n",
       "      <td>5.0</td>\n",
       "      <td>1.773010</td>\n",
       "      <td>{'was_impossible': False}</td>\n",
       "      <td>15</td>\n",
       "      <td>32</td>\n",
       "      <td>3.226990</td>\n",
       "    </tr>\n",
       "    <tr>\n",
       "      <th>15201</th>\n",
       "      <td>212467</td>\n",
       "      <td>0446608602</td>\n",
       "      <td>0.0</td>\n",
       "      <td>1.377468</td>\n",
       "      <td>{'was_impossible': False}</td>\n",
       "      <td>15</td>\n",
       "      <td>35</td>\n",
       "      <td>1.377468</td>\n",
       "    </tr>\n",
       "    <tr>\n",
       "      <th>22409</th>\n",
       "      <td>212467</td>\n",
       "      <td>1558747028</td>\n",
       "      <td>5.0</td>\n",
       "      <td>1.678224</td>\n",
       "      <td>{'was_impossible': False}</td>\n",
       "      <td>15</td>\n",
       "      <td>22</td>\n",
       "      <td>3.321776</td>\n",
       "    </tr>\n",
       "    <tr>\n",
       "      <th>32322</th>\n",
       "      <td>212467</td>\n",
       "      <td>1558746161</td>\n",
       "      <td>10.0</td>\n",
       "      <td>3.423802</td>\n",
       "      <td>{'was_impossible': False}</td>\n",
       "      <td>15</td>\n",
       "      <td>20</td>\n",
       "      <td>6.576198</td>\n",
       "    </tr>\n",
       "    <tr>\n",
       "      <th>33930</th>\n",
       "      <td>212467</td>\n",
       "      <td>0743411269</td>\n",
       "      <td>0.0</td>\n",
       "      <td>1.675775</td>\n",
       "      <td>{'was_impossible': False}</td>\n",
       "      <td>15</td>\n",
       "      <td>21</td>\n",
       "      <td>1.675775</td>\n",
       "    </tr>\n",
       "    <tr>\n",
       "      <th>41989</th>\n",
       "      <td>212467</td>\n",
       "      <td>1558744606</td>\n",
       "      <td>5.0</td>\n",
       "      <td>2.031886</td>\n",
       "      <td>{'was_impossible': False}</td>\n",
       "      <td>15</td>\n",
       "      <td>34</td>\n",
       "      <td>2.968114</td>\n",
       "    </tr>\n",
       "  </tbody>\n",
       "</table>\n",
       "</div>"
      ],
      "text/plain": [
       "       userID      ItemID   rui  predicted_rating                    details  \\\n",
       "1      212467  1558745718   5.0          3.518481  {'was_impossible': False}   \n",
       "2676   212467  0553583441   0.0          1.692548  {'was_impossible': False}   \n",
       "5918   212467  0553581554   8.0          1.417721  {'was_impossible': False}   \n",
       "7090   212467  0060928336   0.0          2.362612  {'was_impossible': False}   \n",
       "10845  212467  0515119644   5.0          1.773010  {'was_impossible': False}   \n",
       "15201  212467  0446608602   0.0          1.377468  {'was_impossible': False}   \n",
       "22409  212467  1558747028   5.0          1.678224  {'was_impossible': False}   \n",
       "32322  212467  1558746161  10.0          3.423802  {'was_impossible': False}   \n",
       "33930  212467  0743411269   0.0          1.675775  {'was_impossible': False}   \n",
       "41989  212467  1558744606   5.0          2.031886  {'was_impossible': False}   \n",
       "\n",
       "       #Items_Rated_by_User  #Ratings_by_Users       err  \n",
       "1                        15                 37  1.481519  \n",
       "2676                     15                 48  1.692548  \n",
       "5918                     15                 56  6.582279  \n",
       "7090                     15                258  2.362612  \n",
       "10845                    15                 32  3.226990  \n",
       "15201                    15                 35  1.377468  \n",
       "22409                    15                 22  3.321776  \n",
       "32322                    15                 20  6.576198  \n",
       "33930                    15                 21  1.675775  \n",
       "41989                    15                 34  2.968114  "
      ]
     },
     "execution_count": 122,
     "metadata": {},
     "output_type": "execute_result"
    }
   ],
   "source": [
    "df.loc[df['userID']==212467]"
   ]
  },
  {
   "cell_type": "code",
   "execution_count": 112,
   "metadata": {},
   "outputs": [
    {
     "data": {
      "text/html": [
       "<div>\n",
       "<style scoped>\n",
       "    .dataframe tbody tr th:only-of-type {\n",
       "        vertical-align: middle;\n",
       "    }\n",
       "\n",
       "    .dataframe tbody tr th {\n",
       "        vertical-align: top;\n",
       "    }\n",
       "\n",
       "    .dataframe thead th {\n",
       "        text-align: right;\n",
       "    }\n",
       "</style>\n",
       "<table border=\"1\" class=\"dataframe\">\n",
       "  <thead>\n",
       "    <tr style=\"text-align: right;\">\n",
       "      <th></th>\n",
       "      <th>userID</th>\n",
       "      <th>ItemID</th>\n",
       "      <th>rui</th>\n",
       "      <th>predicted_rating</th>\n",
       "      <th>details</th>\n",
       "      <th>#Items_Rated_by_User</th>\n",
       "      <th>#Ratings_by_Users</th>\n",
       "      <th>err</th>\n",
       "    </tr>\n",
       "  </thead>\n",
       "  <tbody>\n",
       "    <tr>\n",
       "      <th>0</th>\n",
       "      <td>162639</td>\n",
       "      <td>0609804138</td>\n",
       "      <td>0.0</td>\n",
       "      <td>3.145523</td>\n",
       "      <td>{'was_impossible': False}</td>\n",
       "      <td>191</td>\n",
       "      <td>90</td>\n",
       "      <td>3.145523</td>\n",
       "    </tr>\n",
       "    <tr>\n",
       "      <th>1</th>\n",
       "      <td>212467</td>\n",
       "      <td>1558745718</td>\n",
       "      <td>5.0</td>\n",
       "      <td>3.518481</td>\n",
       "      <td>{'was_impossible': False}</td>\n",
       "      <td>15</td>\n",
       "      <td>37</td>\n",
       "      <td>1.481519</td>\n",
       "    </tr>\n",
       "    <tr>\n",
       "      <th>2</th>\n",
       "      <td>136205</td>\n",
       "      <td>067976397X</td>\n",
       "      <td>0.0</td>\n",
       "      <td>1.845163</td>\n",
       "      <td>{'was_impossible': False}</td>\n",
       "      <td>82</td>\n",
       "      <td>40</td>\n",
       "      <td>1.845163</td>\n",
       "    </tr>\n",
       "    <tr>\n",
       "      <th>3</th>\n",
       "      <td>40889</td>\n",
       "      <td>0887307876</td>\n",
       "      <td>0.0</td>\n",
       "      <td>2.980114</td>\n",
       "      <td>{'was_impossible': False}</td>\n",
       "      <td>137</td>\n",
       "      <td>30</td>\n",
       "      <td>2.980114</td>\n",
       "    </tr>\n",
       "    <tr>\n",
       "      <th>4</th>\n",
       "      <td>195469</td>\n",
       "      <td>0446310786</td>\n",
       "      <td>10.0</td>\n",
       "      <td>3.026787</td>\n",
       "      <td>{'was_impossible': False}</td>\n",
       "      <td>46</td>\n",
       "      <td>157</td>\n",
       "      <td>6.973213</td>\n",
       "    </tr>\n",
       "    <tr>\n",
       "      <th>5</th>\n",
       "      <td>200674</td>\n",
       "      <td>0345417623</td>\n",
       "      <td>0.0</td>\n",
       "      <td>1.008695</td>\n",
       "      <td>{'was_impossible': False}</td>\n",
       "      <td>123</td>\n",
       "      <td>117</td>\n",
       "      <td>1.008695</td>\n",
       "    </tr>\n",
       "    <tr>\n",
       "      <th>6</th>\n",
       "      <td>35859</td>\n",
       "      <td>0451205626</td>\n",
       "      <td>0.0</td>\n",
       "      <td>0.945670</td>\n",
       "      <td>{'was_impossible': False}</td>\n",
       "      <td>510</td>\n",
       "      <td>24</td>\n",
       "      <td>0.945670</td>\n",
       "    </tr>\n",
       "    <tr>\n",
       "      <th>7</th>\n",
       "      <td>29259</td>\n",
       "      <td>067100042X</td>\n",
       "      <td>0.0</td>\n",
       "      <td>2.078327</td>\n",
       "      <td>{'was_impossible': False}</td>\n",
       "      <td>98</td>\n",
       "      <td>50</td>\n",
       "      <td>2.078327</td>\n",
       "    </tr>\n",
       "    <tr>\n",
       "      <th>8</th>\n",
       "      <td>228681</td>\n",
       "      <td>0553578022</td>\n",
       "      <td>0.0</td>\n",
       "      <td>1.647886</td>\n",
       "      <td>{'was_impossible': False}</td>\n",
       "      <td>75</td>\n",
       "      <td>45</td>\n",
       "      <td>1.647886</td>\n",
       "    </tr>\n",
       "    <tr>\n",
       "      <th>9</th>\n",
       "      <td>274308</td>\n",
       "      <td>0446365505</td>\n",
       "      <td>0.0</td>\n",
       "      <td>0.000000</td>\n",
       "      <td>{'was_impossible': False}</td>\n",
       "      <td>152</td>\n",
       "      <td>48</td>\n",
       "      <td>0.000000</td>\n",
       "    </tr>\n",
       "  </tbody>\n",
       "</table>\n",
       "</div>"
      ],
      "text/plain": [
       "   userID      ItemID   rui  predicted_rating                    details  \\\n",
       "0  162639  0609804138   0.0          3.145523  {'was_impossible': False}   \n",
       "1  212467  1558745718   5.0          3.518481  {'was_impossible': False}   \n",
       "2  136205  067976397X   0.0          1.845163  {'was_impossible': False}   \n",
       "3   40889  0887307876   0.0          2.980114  {'was_impossible': False}   \n",
       "4  195469  0446310786  10.0          3.026787  {'was_impossible': False}   \n",
       "5  200674  0345417623   0.0          1.008695  {'was_impossible': False}   \n",
       "6   35859  0451205626   0.0          0.945670  {'was_impossible': False}   \n",
       "7   29259  067100042X   0.0          2.078327  {'was_impossible': False}   \n",
       "8  228681  0553578022   0.0          1.647886  {'was_impossible': False}   \n",
       "9  274308  0446365505   0.0          0.000000  {'was_impossible': False}   \n",
       "\n",
       "   #Items_Rated_by_User  #Ratings_by_Users       err  \n",
       "0                   191                 90  3.145523  \n",
       "1                    15                 37  1.481519  \n",
       "2                    82                 40  1.845163  \n",
       "3                   137                 30  2.980114  \n",
       "4                    46                157  6.973213  \n",
       "5                   123                117  1.008695  \n",
       "6                   510                 24  0.945670  \n",
       "7                    98                 50  2.078327  \n",
       "8                    75                 45  1.647886  \n",
       "9                   152                 48  0.000000  "
      ]
     },
     "execution_count": 112,
     "metadata": {},
     "output_type": "execute_result"
    }
   ],
   "source": [
    "df.head(10)"
   ]
  },
  {
   "cell_type": "code",
   "execution_count": null,
   "metadata": {},
   "outputs": [],
   "source": []
  }
 ],
 "metadata": {
  "kernelspec": {
   "display_name": "Python 3",
   "language": "python",
   "name": "python3"
  },
  "language_info": {
   "codemirror_mode": {
    "name": "ipython",
    "version": 3
   },
   "file_extension": ".py",
   "mimetype": "text/x-python",
   "name": "python",
   "nbconvert_exporter": "python",
   "pygments_lexer": "ipython3",
   "version": "3.7.4"
  }
 },
 "nbformat": 4,
 "nbformat_minor": 4
}
